{
 "cells": [
  {
   "cell_type": "code",
   "execution_count": 1,
   "id": "131619f6",
   "metadata": {
    "_cell_guid": "b1076dfc-b9ad-4769-8c92-a6c4dae69d19",
    "_uuid": "8f2839f25d086af736a60e9eeb907d3b93b6e0e5",
    "execution": {
     "iopub.execute_input": "2025-10-23T14:10:53.934147Z",
     "iopub.status.busy": "2025-10-23T14:10:53.933301Z",
     "iopub.status.idle": "2025-10-23T14:10:55.729675Z",
     "shell.execute_reply": "2025-10-23T14:10:55.728774Z"
    },
    "papermill": {
     "duration": 1.803993,
     "end_time": "2025-10-23T14:10:55.731474",
     "exception": false,
     "start_time": "2025-10-23T14:10:53.927481",
     "status": "completed"
    },
    "tags": []
   },
   "outputs": [],
   "source": [
    "# This Python 3 environment comes with many helpful analytics libraries installed\n",
    "# It is defined by the kaggle/python Docker image: https://github.com/kaggle/docker-python\n",
    "# For example, here's several helpful packages to load\n",
    "\n",
    "import numpy as np # linear algebra\n",
    "import pandas as pd # data processing, CSV file I/O (e.g. pd.read_csv)\n",
    "\n",
    "# Input data files are available in the read-only \"../input/\" directory\n",
    "# For example, running this (by clicking run or pressing Shift+Enter) will list all files under the input directory\n",
    "\n",
    "import os\n",
    "for dirname, _, filenames in os.walk('/kaggle/input'):\n",
    "    for filename in filenames:\n",
    "        print(os.path.join(dirname, filename))\n",
    "\n",
    "# You can write up to 20GB to the current directory (/kaggle/working/) that gets preserved as output when you create a version using \"Save & Run All\" \n",
    "# You can also write temporary files to /kaggle/temp/, but they won't be saved outside of the current session"
   ]
  },
  {
   "cell_type": "code",
   "execution_count": 2,
   "id": "4090c385",
   "metadata": {
    "execution": {
     "iopub.execute_input": "2025-10-23T14:10:55.740953Z",
     "iopub.status.busy": "2025-10-23T14:10:55.740504Z",
     "iopub.status.idle": "2025-10-23T14:11:03.498472Z",
     "shell.execute_reply": "2025-10-23T14:11:03.497134Z"
    },
    "papermill": {
     "duration": 7.764658,
     "end_time": "2025-10-23T14:11:03.500382",
     "exception": false,
     "start_time": "2025-10-23T14:10:55.735724",
     "status": "completed"
    },
    "tags": []
   },
   "outputs": [
    {
     "name": "stdout",
     "output_type": "stream",
     "text": [
      "  Preparing metadata (setup.py) ... \u001b[?25l\u001b[?25hdone\r\n",
      "  Building wheel for ta (setup.py) ... \u001b[?25l\u001b[?25hdone\r\n",
      "✓ Packages installed successfully!\n"
     ]
    }
   ],
   "source": [
    "!pip install -q yfinance ta\n",
    "\n",
    "print(\"✓ Packages installed successfully!\")"
   ]
  },
  {
   "cell_type": "code",
   "execution_count": 3,
   "id": "687c3cb1",
   "metadata": {
    "execution": {
     "iopub.execute_input": "2025-10-23T14:11:03.510969Z",
     "iopub.status.busy": "2025-10-23T14:11:03.510582Z",
     "iopub.status.idle": "2025-10-23T14:11:23.544669Z",
     "shell.execute_reply": "2025-10-23T14:11:23.543401Z"
    },
    "papermill": {
     "duration": 20.041126,
     "end_time": "2025-10-23T14:11:23.546264",
     "exception": false,
     "start_time": "2025-10-23T14:11:03.505138",
     "status": "completed"
    },
    "tags": []
   },
   "outputs": [
    {
     "name": "stderr",
     "output_type": "stream",
     "text": [
      "2025-10-23 14:11:09.161560: E external/local_xla/xla/stream_executor/cuda/cuda_fft.cc:477] Unable to register cuFFT factory: Attempting to register factory for plugin cuFFT when one has already been registered\n",
      "WARNING: All log messages before absl::InitializeLog() is called are written to STDERR\n",
      "E0000 00:00:1761228669.425074      13 cuda_dnn.cc:8310] Unable to register cuDNN factory: Attempting to register factory for plugin cuDNN when one has already been registered\n",
      "E0000 00:00:1761228669.494500      13 cuda_blas.cc:1418] Unable to register cuBLAS factory: Attempting to register factory for plugin cuBLAS when one has already been registered\n"
     ]
    },
    {
     "name": "stdout",
     "output_type": "stream",
     "text": [
      "✓ All libraries imported successfully!\n",
      "TensorFlow version: 2.18.0\n"
     ]
    }
   ],
   "source": [
    "import pandas as pd\n",
    "import numpy as np\n",
    "import warnings\n",
    "warnings.filterwarnings('ignore')\n",
    "\n",
    "# Data fetching and technical analysis\n",
    "import yfinance as yf\n",
    "from ta import add_all_ta_features\n",
    "\n",
    "# Visualization\n",
    "import matplotlib.pyplot as plt\n",
    "import seaborn as sns\n",
    "sns.set_style('whitegrid')\n",
    "\n",
    "# Machine learning preprocessing\n",
    "from sklearn.preprocessing import StandardScaler\n",
    "from sklearn.model_selection import train_test_split\n",
    "from sklearn.utils.class_weight import compute_class_weight\n",
    "from sklearn.metrics import (\n",
    "    accuracy_score, \n",
    "    classification_report, \n",
    "    confusion_matrix,\n",
    "    roc_auc_score,\n",
    "    roc_curve\n",
    ")\n",
    "from sklearn.inspection import permutation_importance\n",
    "\n",
    "# Deep learning\n",
    "import tensorflow as tf\n",
    "from tensorflow.keras.models import Sequential\n",
    "from tensorflow.keras.layers import Dense, Dropout, BatchNormalization\n",
    "from tensorflow.keras.callbacks import EarlyStopping, ReduceLROnPlateau\n",
    "from tensorflow.keras.optimizers import Adam\n",
    "\n",
    "# Set random seeds for reproducibility\n",
    "np.random.seed(42)\n",
    "tf.random.set_seed(42)\n",
    "\n",
    "print(\"✓ All libraries imported successfully!\")\n",
    "print(f\"TensorFlow version: {tf.__version__}\")"
   ]
  },
  {
   "cell_type": "code",
   "execution_count": 4,
   "id": "623f97c8",
   "metadata": {
    "execution": {
     "iopub.execute_input": "2025-10-23T14:11:23.557138Z",
     "iopub.status.busy": "2025-10-23T14:11:23.556473Z",
     "iopub.status.idle": "2025-10-23T14:11:24.284434Z",
     "shell.execute_reply": "2025-10-23T14:11:24.283124Z"
    },
    "papermill": {
     "duration": 0.734784,
     "end_time": "2025-10-23T14:11:24.286004",
     "exception": false,
     "start_time": "2025-10-23T14:11:23.551220",
     "status": "completed"
    },
    "tags": []
   },
   "outputs": [
    {
     "name": "stdout",
     "output_type": "stream",
     "text": [
      "Downloading AAPL data for the last 2y...\n",
      "✓ Downloaded 503 days of data\n",
      "Date range: 2023-10-23 to 2025-10-23\n",
      "\n",
      "First few rows:\n",
      "                  Open        High         Low       Close    Volume\n",
      "Date                                                                \n",
      "2023-10-23  171.321899  172.322097  168.281671  169.252176  55980100\n",
      "2023-10-24  171.757645  171.985409  169.786942  171.371428  43816600\n",
      "2023-10-25  169.440338  171.381318  168.994691  170.212771  57157000\n",
      "2023-10-26  165.271179  169.717632  164.063012  168.717419  70625300\n",
      "2023-10-27  166.588287  167.321115  165.211771  165.290997  58499100\n"
     ]
    }
   ],
   "source": [
    "# Using Apple (AAPL) as our example stock\n",
    "ticker = 'AAPL'\n",
    "period = '2y'  # Using 2 years for more training data\n",
    "\n",
    "print(f\"Downloading {ticker} data for the last {period}...\")\n",
    "\n",
    "data = yf.download(ticker, period=period, interval='1d', progress=False)\n",
    "\n",
    "# FIX: yfinance sometimes returns MultiIndex columns, flatten them\n",
    "if isinstance(data.columns, pd.MultiIndex):\n",
    "    data.columns = data.columns.get_level_values(0)\n",
    "\n",
    "# Ensure correct column names dynamically\n",
    "expected_cols = ['Open', 'High', 'Low', 'Close', 'Adj Close', 'Volume']\n",
    "actual_cols = list(data.columns)\n",
    "\n",
    "# If only 5 columns exist (no 'Adj Close')\n",
    "if len(actual_cols) == 5:\n",
    "    data.columns = ['Open', 'High', 'Low', 'Close', 'Volume']\n",
    "else:\n",
    "    data.columns = expected_cols[:len(actual_cols)]\n",
    "\n",
    "print(f\"✓ Downloaded {len(data)} days of data\")\n",
    "print(f\"Date range: {data.index[0].date()} to {data.index[-1].date()}\")\n",
    "print(\"\\nFirst few rows:\")\n",
    "print(data.head())\n"
   ]
  },
  {
   "cell_type": "code",
   "execution_count": 5,
   "id": "bc8d5812",
   "metadata": {
    "execution": {
     "iopub.execute_input": "2025-10-23T14:11:24.295605Z",
     "iopub.status.busy": "2025-10-23T14:11:24.295301Z",
     "iopub.status.idle": "2025-10-23T14:11:24.556567Z",
     "shell.execute_reply": "2025-10-23T14:11:24.555221Z"
    },
    "papermill": {
     "duration": 0.267878,
     "end_time": "2025-10-23T14:11:24.558226",
     "exception": false,
     "start_time": "2025-10-23T14:11:24.290348",
     "status": "completed"
    },
    "tags": []
   },
   "outputs": [
    {
     "name": "stdout",
     "output_type": "stream",
     "text": [
      "Adding technical indicators...\n",
      "✓ Technical indicators added! Now we have 91 features\n",
      "Remaining data points: 503\n"
     ]
    }
   ],
   "source": [
    "print(\"Adding technical indicators...\")\n",
    "\n",
    "# Flatten any 2D columns into 1D\n",
    "for col in ['Open', 'High', 'Low', 'Close', 'Volume']:\n",
    "    if isinstance(data[col].iloc[0], (np.ndarray, list)):\n",
    "        data[col] = data[col].apply(lambda x: x[0])\n",
    "\n",
    "# Add technical indicators\n",
    "data = add_all_ta_features(\n",
    "    data, \n",
    "    open=\"Open\", \n",
    "    high=\"High\", \n",
    "    low=\"Low\", \n",
    "    close=\"Close\", \n",
    "    volume=\"Volume\",\n",
    "    fillna=True\n",
    ")\n",
    "\n",
    "# Drop any remaining NaN values\n",
    "data.dropna(inplace=True)\n",
    "\n",
    "print(f\"✓ Technical indicators added! Now we have {data.shape[1]} features\")\n",
    "print(f\"Remaining data points: {len(data)}\")\n"
   ]
  },
  {
   "cell_type": "code",
   "execution_count": 6,
   "id": "a2d9f01f",
   "metadata": {
    "execution": {
     "iopub.execute_input": "2025-10-23T14:11:24.568087Z",
     "iopub.status.busy": "2025-10-23T14:11:24.567674Z",
     "iopub.status.idle": "2025-10-23T14:11:24.581884Z",
     "shell.execute_reply": "2025-10-23T14:11:24.580780Z"
    },
    "papermill": {
     "duration": 0.020876,
     "end_time": "2025-10-23T14:11:24.583412",
     "exception": false,
     "start_time": "2025-10-23T14:11:24.562536",
     "status": "completed"
    },
    "tags": []
   },
   "outputs": [
    {
     "name": "stdout",
     "output_type": "stream",
     "text": [
      "Engineering custom features...\n",
      "✓ Returns and volatility features added\n"
     ]
    }
   ],
   "source": [
    "#Feature Engineering - Returns and Volatality\n",
    "print(\"Engineering custom features...\")\n",
    "\n",
    "# Daily returns (percentage change)\n",
    "data['Return'] = data['Close'].pct_change()\n",
    "\n",
    "# Rolling volatility (standard deviation of returns)\n",
    "data['Volatility_3d'] = data['Return'].rolling(window=3).std()\n",
    "data['Volatility_5d'] = data['Return'].rolling(window=5).std()\n",
    "data['Volatility_7d'] = data['Return'].rolling(window=7).std()\n",
    "\n",
    "# Volume changes\n",
    "data['Volume_Change'] = data['Volume'].pct_change()\n",
    "\n",
    "# Price momentum over different periods\n",
    "data['Momentum_3d'] = data['Close'] / data['Close'].shift(3) - 1\n",
    "data['Momentum_5d'] = data['Close'] / data['Close'].shift(5) - 1\n",
    "\n",
    "print(\"✓ Returns and volatility features added\")"
   ]
  },
  {
   "cell_type": "code",
   "execution_count": 7,
   "id": "88973b62",
   "metadata": {
    "execution": {
     "iopub.execute_input": "2025-10-23T14:11:24.592972Z",
     "iopub.status.busy": "2025-10-23T14:11:24.592657Z",
     "iopub.status.idle": "2025-10-23T14:11:24.607130Z",
     "shell.execute_reply": "2025-10-23T14:11:24.606200Z"
    },
    "papermill": {
     "duration": 0.020748,
     "end_time": "2025-10-23T14:11:24.608548",
     "exception": false,
     "start_time": "2025-10-23T14:11:24.587800",
     "status": "completed"
    },
    "tags": []
   },
   "outputs": [
    {
     "name": "stdout",
     "output_type": "stream",
     "text": [
      "Adding lag features for temporal context...\n",
      "✓ Added lag features for 4 indicators\n",
      "Total lag features created: 16\n"
     ]
    }
   ],
   "source": [
    "#Feature Engineering - Lag Features (Temporal Memory)\n",
    "print(\"Adding lag features for temporal context...\")\n",
    "\n",
    "# We'll add lags for the most important indicators\n",
    "lag_features = ['Return', 'momentum_rsi', 'trend_macd', 'Volume']\n",
    "lag_periods = [1, 2, 3, 5]  # Yesterday, 2 days ago, 3 days ago, 5 days ago\n",
    "\n",
    "for feature in lag_features:\n",
    "    if feature in data.columns:\n",
    "        for lag in lag_periods:\n",
    "            data[f'{feature}_Lag{lag}'] = data[feature].shift(lag)\n",
    "\n",
    "print(f\"✓ Added lag features for {len(lag_features)} indicators\")\n",
    "print(f\"Total lag features created: {len(lag_features) * len(lag_periods)}\")"
   ]
  },
  {
   "cell_type": "code",
   "execution_count": 8,
   "id": "5a5dd1d6",
   "metadata": {
    "execution": {
     "iopub.execute_input": "2025-10-23T14:11:24.618397Z",
     "iopub.status.busy": "2025-10-23T14:11:24.618090Z",
     "iopub.status.idle": "2025-10-23T14:11:24.632118Z",
     "shell.execute_reply": "2025-10-23T14:11:24.631194Z"
    },
    "papermill": {
     "duration": 0.020635,
     "end_time": "2025-10-23T14:11:24.633507",
     "exception": false,
     "start_time": "2025-10-23T14:11:24.612872",
     "status": "completed"
    },
    "tags": []
   },
   "outputs": [
    {
     "name": "stdout",
     "output_type": "stream",
     "text": [
      "Adding relative price position features...\n",
      "✓ Relative position features added\n",
      "Final dataset size: 496 days\n"
     ]
    }
   ],
   "source": [
    "#Feature Engineering - Relative Price Positions\n",
    "print(\"Adding relative price position features...\")\n",
    "\n",
    "# Price relative to moving averages (trend indicators)\n",
    "data['Price_vs_SMA20'] = data['Close'] / data['trend_sma_fast']\n",
    "data['Price_vs_SMA50'] = data['Close'] / data['trend_sma_slow']\n",
    "\n",
    "# Distance from Bollinger Bands (volatility indicators)\n",
    "if 'volatility_bbh' in data.columns and 'volatility_bbl' in data.columns:\n",
    "    bb_range = data['volatility_bbh'] - data['volatility_bbl']\n",
    "    data['BB_Position'] = (data['Close'] - data['volatility_bbl']) / bb_range\n",
    "    \n",
    "# RSI overbought/oversold signals\n",
    "if 'momentum_rsi' in data.columns:\n",
    "    data['RSI_Overbought'] = (data['momentum_rsi'] > 70).astype(int)\n",
    "    data['RSI_Oversold'] = (data['momentum_rsi'] < 30).astype(int)\n",
    "\n",
    "print(\"✓ Relative position features added\")\n",
    "\n",
    "# Clean up any NaN values created by our feature engineering\n",
    "data.dropna(inplace=True)\n",
    "print(f\"Final dataset size: {len(data)} days\")\n"
   ]
  },
  {
   "cell_type": "code",
   "execution_count": 9,
   "id": "d9590218",
   "metadata": {
    "execution": {
     "iopub.execute_input": "2025-10-23T14:11:24.644424Z",
     "iopub.status.busy": "2025-10-23T14:11:24.643572Z",
     "iopub.status.idle": "2025-10-23T14:11:24.655615Z",
     "shell.execute_reply": "2025-10-23T14:11:24.654609Z"
    },
    "papermill": {
     "duration": 0.019126,
     "end_time": "2025-10-23T14:11:24.657196",
     "exception": false,
     "start_time": "2025-10-23T14:11:24.638070",
     "status": "completed"
    },
    "tags": []
   },
   "outputs": [
    {
     "name": "stdout",
     "output_type": "stream",
     "text": [
      "Creating target variable...\n",
      "\n",
      "Target variable distribution:\n",
      "Target\n",
      "1    265\n",
      "0    231\n",
      "Name: count, dtype: int64\n",
      "Class balance: 53.4% UP days, 46.6% DOWN days\n"
     ]
    }
   ],
   "source": [
    "#Target Variable\n",
    "print(\"Creating target variable...\")\n",
    "\n",
    "# Shift close price by -1 to get tomorrow's price\n",
    "data['Target'] = (data['Close'].shift(-1) > data['Close']).astype(int)\n",
    "\n",
    "# Drop the last row (we don't have tomorrow's price for it)\n",
    "data.dropna(inplace=True)\n",
    "\n",
    "# Check class distribution\n",
    "class_distribution = data['Target'].value_counts()\n",
    "print(\"\\nTarget variable distribution:\")\n",
    "print(class_distribution)\n",
    "print(f\"Class balance: {class_distribution[1]/len(data)*100:.1f}% UP days, \"\n",
    "      f\"{class_distribution[0]/len(data)*100:.1f}% DOWN days\")\n"
   ]
  },
  {
   "cell_type": "code",
   "execution_count": 10,
   "id": "b5757704",
   "metadata": {
    "execution": {
     "iopub.execute_input": "2025-10-23T14:11:24.667063Z",
     "iopub.status.busy": "2025-10-23T14:11:24.666756Z",
     "iopub.status.idle": "2025-10-23T14:11:24.674231Z",
     "shell.execute_reply": "2025-10-23T14:11:24.673123Z"
    },
    "papermill": {
     "duration": 0.013893,
     "end_time": "2025-10-23T14:11:24.675548",
     "exception": false,
     "start_time": "2025-10-23T14:11:24.661655",
     "status": "completed"
    },
    "tags": []
   },
   "outputs": [
    {
     "name": "stdout",
     "output_type": "stream",
     "text": [
      "Preparing feature matrix...\n",
      "✓ Feature matrix shape: (496, 119)\n",
      "Number of features: 119\n",
      "Number of samples: 496\n"
     ]
    }
   ],
   "source": [
    "#Prepare Features and Target\n",
    "print(\"Preparing feature matrix...\")\n",
    "\n",
    "# Columns to exclude from features\n",
    "exclude_cols = ['Target', 'Adj Close']\n",
    "\n",
    "# Get all feature columns\n",
    "feature_columns = [col for col in data.columns if col not in exclude_cols]\n",
    "\n",
    "X = data[feature_columns]\n",
    "y = data['Target']\n",
    "\n",
    "print(f\"✓ Feature matrix shape: {X.shape}\")\n",
    "print(f\"Number of features: {X.shape[1]}\")\n",
    "print(f\"Number of samples: {X.shape[0]}\")"
   ]
  },
  {
   "cell_type": "code",
   "execution_count": 11,
   "id": "915b9ad5",
   "metadata": {
    "execution": {
     "iopub.execute_input": "2025-10-23T14:11:24.686632Z",
     "iopub.status.busy": "2025-10-23T14:11:24.685499Z",
     "iopub.status.idle": "2025-10-23T14:11:24.711724Z",
     "shell.execute_reply": "2025-10-23T14:11:24.710636Z"
    },
    "papermill": {
     "duration": 0.033079,
     "end_time": "2025-10-23T14:11:24.713162",
     "exception": false,
     "start_time": "2025-10-23T14:11:24.680083",
     "status": "completed"
    },
    "tags": []
   },
   "outputs": [
    {
     "name": "stdout",
     "output_type": "stream",
     "text": [
      "Scaling features...\n",
      "✓ Features scaled using StandardScaler\n",
      "Scaled data shape: (496, 119)\n"
     ]
    }
   ],
   "source": [
    "#Feature Scaling\n",
    "print(\"Scaling features...\")\n",
    "\n",
    "scaler = StandardScaler()\n",
    "X_scaled = scaler.fit_transform(X)\n",
    "\n",
    "print(\"✓ Features scaled using StandardScaler\")\n",
    "print(f\"Scaled data shape: {X_scaled.shape}\")"
   ]
  },
  {
   "cell_type": "code",
   "execution_count": 12,
   "id": "471df17b",
   "metadata": {
    "execution": {
     "iopub.execute_input": "2025-10-23T14:11:24.724164Z",
     "iopub.status.busy": "2025-10-23T14:11:24.723313Z",
     "iopub.status.idle": "2025-10-23T14:11:24.730096Z",
     "shell.execute_reply": "2025-10-23T14:11:24.729202Z"
    },
    "papermill": {
     "duration": 0.013502,
     "end_time": "2025-10-23T14:11:24.731452",
     "exception": false,
     "start_time": "2025-10-23T14:11:24.717950",
     "status": "completed"
    },
    "tags": []
   },
   "outputs": [
    {
     "name": "stdout",
     "output_type": "stream",
     "text": [
      "Splitting data into train and test sets...\n",
      "✓ Training set: 396 samples\n",
      "✓ Test set: 100 samples\n",
      "\n",
      "Train period: 2023-11-01 to 2025-06-02\n",
      "Test period: 2025-06-03 to 2025-10-23\n"
     ]
    }
   ],
   "source": [
    "#Train-Test Split (Temporal)\n",
    "print(\"Splitting data into train and test sets...\")\n",
    "\n",
    "# Use 80% for training, 20% for testing\n",
    "train_size = int(len(X_scaled) * 0.8)\n",
    "\n",
    "X_train = X_scaled[:train_size]\n",
    "X_test = X_scaled[train_size:]\n",
    "y_train = y[:train_size]\n",
    "y_test = y[train_size:]\n",
    "\n",
    "print(f\"✓ Training set: {len(X_train)} samples\")\n",
    "print(f\"✓ Test set: {len(X_test)} samples\")\n",
    "print(f\"\\nTrain period: {data.index[0].date()} to {data.index[train_size-1].date()}\")\n",
    "print(f\"Test period: {data.index[train_size].date()} to {data.index[-1].date()}\")"
   ]
  },
  {
   "cell_type": "code",
   "execution_count": 13,
   "id": "c81b953a",
   "metadata": {
    "execution": {
     "iopub.execute_input": "2025-10-23T14:11:24.741774Z",
     "iopub.status.busy": "2025-10-23T14:11:24.741485Z",
     "iopub.status.idle": "2025-10-23T14:11:24.748838Z",
     "shell.execute_reply": "2025-10-23T14:11:24.747956Z"
    },
    "papermill": {
     "duration": 0.014135,
     "end_time": "2025-10-23T14:11:24.750266",
     "exception": false,
     "start_time": "2025-10-23T14:11:24.736131",
     "status": "completed"
    },
    "tags": []
   },
   "outputs": [
    {
     "name": "stdout",
     "output_type": "stream",
     "text": [
      "Calculating class weights to handle imbalance...\n",
      "Class weights:\n",
      "  DOWN (0): 1.042\n",
      "  UP (1): 0.961\n"
     ]
    }
   ],
   "source": [
    "#Calculate Class Weights\n",
    "print(\"Calculating class weights to handle imbalance...\")\n",
    "\n",
    "class_weights = compute_class_weight(\n",
    "    class_weight='balanced',\n",
    "    classes=np.unique(y_train),\n",
    "    y=y_train\n",
    ")\n",
    "\n",
    "class_weights_dict = {i: weight for i, weight in enumerate(class_weights)}\n",
    "\n",
    "print(\"Class weights:\")\n",
    "for class_label, weight in class_weights_dict.items():\n",
    "    class_name = \"DOWN (0)\" if class_label == 0 else \"UP (1)\"\n",
    "    print(f\"  {class_name}: {weight:.3f}\")"
   ]
  },
  {
   "cell_type": "code",
   "execution_count": 14,
   "id": "fec76510",
   "metadata": {
    "execution": {
     "iopub.execute_input": "2025-10-23T14:11:24.761170Z",
     "iopub.status.busy": "2025-10-23T14:11:24.760573Z",
     "iopub.status.idle": "2025-10-23T14:11:24.913562Z",
     "shell.execute_reply": "2025-10-23T14:11:24.912699Z"
    },
    "papermill": {
     "duration": 0.16017,
     "end_time": "2025-10-23T14:11:24.915284",
     "exception": false,
     "start_time": "2025-10-23T14:11:24.755114",
     "status": "completed"
    },
    "tags": []
   },
   "outputs": [
    {
     "name": "stdout",
     "output_type": "stream",
     "text": [
      "Building neural network model...\n",
      "\n",
      "✓ Model architecture:\n"
     ]
    },
    {
     "name": "stderr",
     "output_type": "stream",
     "text": [
      "2025-10-23 14:11:24.770431: E external/local_xla/xla/stream_executor/cuda/cuda_driver.cc:152] failed call to cuInit: INTERNAL: CUDA error: Failed call to cuInit: UNKNOWN ERROR (303)\n"
     ]
    },
    {
     "data": {
      "text/html": [
       "<pre style=\"white-space:pre;overflow-x:auto;line-height:normal;font-family:Menlo,'DejaVu Sans Mono',consolas,'Courier New',monospace\"><span style=\"font-weight: bold\">Model: \"sequential\"</span>\n",
       "</pre>\n"
      ],
      "text/plain": [
       "\u001b[1mModel: \"sequential\"\u001b[0m\n"
      ]
     },
     "metadata": {},
     "output_type": "display_data"
    },
    {
     "data": {
      "text/html": [
       "<pre style=\"white-space:pre;overflow-x:auto;line-height:normal;font-family:Menlo,'DejaVu Sans Mono',consolas,'Courier New',monospace\">┏━━━━━━━━━━━━━━━━━━━━━━━━━━━━━━━━━┳━━━━━━━━━━━━━━━━━━━━━━━━┳━━━━━━━━━━━━━━━┓\n",
       "┃<span style=\"font-weight: bold\"> Layer (type)                    </span>┃<span style=\"font-weight: bold\"> Output Shape           </span>┃<span style=\"font-weight: bold\">       Param # </span>┃\n",
       "┡━━━━━━━━━━━━━━━━━━━━━━━━━━━━━━━━━╇━━━━━━━━━━━━━━━━━━━━━━━━╇━━━━━━━━━━━━━━━┩\n",
       "│ dense_1 (<span style=\"color: #0087ff; text-decoration-color: #0087ff\">Dense</span>)                 │ (<span style=\"color: #00d7ff; text-decoration-color: #00d7ff\">None</span>, <span style=\"color: #00af00; text-decoration-color: #00af00\">128</span>)            │        <span style=\"color: #00af00; text-decoration-color: #00af00\">15,360</span> │\n",
       "├─────────────────────────────────┼────────────────────────┼───────────────┤\n",
       "│ bn_1 (<span style=\"color: #0087ff; text-decoration-color: #0087ff\">BatchNormalization</span>)       │ (<span style=\"color: #00d7ff; text-decoration-color: #00d7ff\">None</span>, <span style=\"color: #00af00; text-decoration-color: #00af00\">128</span>)            │           <span style=\"color: #00af00; text-decoration-color: #00af00\">512</span> │\n",
       "├─────────────────────────────────┼────────────────────────┼───────────────┤\n",
       "│ dropout_1 (<span style=\"color: #0087ff; text-decoration-color: #0087ff\">Dropout</span>)             │ (<span style=\"color: #00d7ff; text-decoration-color: #00d7ff\">None</span>, <span style=\"color: #00af00; text-decoration-color: #00af00\">128</span>)            │             <span style=\"color: #00af00; text-decoration-color: #00af00\">0</span> │\n",
       "├─────────────────────────────────┼────────────────────────┼───────────────┤\n",
       "│ dense_2 (<span style=\"color: #0087ff; text-decoration-color: #0087ff\">Dense</span>)                 │ (<span style=\"color: #00d7ff; text-decoration-color: #00d7ff\">None</span>, <span style=\"color: #00af00; text-decoration-color: #00af00\">64</span>)             │         <span style=\"color: #00af00; text-decoration-color: #00af00\">8,256</span> │\n",
       "├─────────────────────────────────┼────────────────────────┼───────────────┤\n",
       "│ bn_2 (<span style=\"color: #0087ff; text-decoration-color: #0087ff\">BatchNormalization</span>)       │ (<span style=\"color: #00d7ff; text-decoration-color: #00d7ff\">None</span>, <span style=\"color: #00af00; text-decoration-color: #00af00\">64</span>)             │           <span style=\"color: #00af00; text-decoration-color: #00af00\">256</span> │\n",
       "├─────────────────────────────────┼────────────────────────┼───────────────┤\n",
       "│ dropout_2 (<span style=\"color: #0087ff; text-decoration-color: #0087ff\">Dropout</span>)             │ (<span style=\"color: #00d7ff; text-decoration-color: #00d7ff\">None</span>, <span style=\"color: #00af00; text-decoration-color: #00af00\">64</span>)             │             <span style=\"color: #00af00; text-decoration-color: #00af00\">0</span> │\n",
       "├─────────────────────────────────┼────────────────────────┼───────────────┤\n",
       "│ dense_3 (<span style=\"color: #0087ff; text-decoration-color: #0087ff\">Dense</span>)                 │ (<span style=\"color: #00d7ff; text-decoration-color: #00d7ff\">None</span>, <span style=\"color: #00af00; text-decoration-color: #00af00\">32</span>)             │         <span style=\"color: #00af00; text-decoration-color: #00af00\">2,080</span> │\n",
       "├─────────────────────────────────┼────────────────────────┼───────────────┤\n",
       "│ dropout_3 (<span style=\"color: #0087ff; text-decoration-color: #0087ff\">Dropout</span>)             │ (<span style=\"color: #00d7ff; text-decoration-color: #00d7ff\">None</span>, <span style=\"color: #00af00; text-decoration-color: #00af00\">32</span>)             │             <span style=\"color: #00af00; text-decoration-color: #00af00\">0</span> │\n",
       "├─────────────────────────────────┼────────────────────────┼───────────────┤\n",
       "│ output (<span style=\"color: #0087ff; text-decoration-color: #0087ff\">Dense</span>)                  │ (<span style=\"color: #00d7ff; text-decoration-color: #00d7ff\">None</span>, <span style=\"color: #00af00; text-decoration-color: #00af00\">1</span>)              │            <span style=\"color: #00af00; text-decoration-color: #00af00\">33</span> │\n",
       "└─────────────────────────────────┴────────────────────────┴───────────────┘\n",
       "</pre>\n"
      ],
      "text/plain": [
       "┏━━━━━━━━━━━━━━━━━━━━━━━━━━━━━━━━━┳━━━━━━━━━━━━━━━━━━━━━━━━┳━━━━━━━━━━━━━━━┓\n",
       "┃\u001b[1m \u001b[0m\u001b[1mLayer (type)                   \u001b[0m\u001b[1m \u001b[0m┃\u001b[1m \u001b[0m\u001b[1mOutput Shape          \u001b[0m\u001b[1m \u001b[0m┃\u001b[1m \u001b[0m\u001b[1m      Param #\u001b[0m\u001b[1m \u001b[0m┃\n",
       "┡━━━━━━━━━━━━━━━━━━━━━━━━━━━━━━━━━╇━━━━━━━━━━━━━━━━━━━━━━━━╇━━━━━━━━━━━━━━━┩\n",
       "│ dense_1 (\u001b[38;5;33mDense\u001b[0m)                 │ (\u001b[38;5;45mNone\u001b[0m, \u001b[38;5;34m128\u001b[0m)            │        \u001b[38;5;34m15,360\u001b[0m │\n",
       "├─────────────────────────────────┼────────────────────────┼───────────────┤\n",
       "│ bn_1 (\u001b[38;5;33mBatchNormalization\u001b[0m)       │ (\u001b[38;5;45mNone\u001b[0m, \u001b[38;5;34m128\u001b[0m)            │           \u001b[38;5;34m512\u001b[0m │\n",
       "├─────────────────────────────────┼────────────────────────┼───────────────┤\n",
       "│ dropout_1 (\u001b[38;5;33mDropout\u001b[0m)             │ (\u001b[38;5;45mNone\u001b[0m, \u001b[38;5;34m128\u001b[0m)            │             \u001b[38;5;34m0\u001b[0m │\n",
       "├─────────────────────────────────┼────────────────────────┼───────────────┤\n",
       "│ dense_2 (\u001b[38;5;33mDense\u001b[0m)                 │ (\u001b[38;5;45mNone\u001b[0m, \u001b[38;5;34m64\u001b[0m)             │         \u001b[38;5;34m8,256\u001b[0m │\n",
       "├─────────────────────────────────┼────────────────────────┼───────────────┤\n",
       "│ bn_2 (\u001b[38;5;33mBatchNormalization\u001b[0m)       │ (\u001b[38;5;45mNone\u001b[0m, \u001b[38;5;34m64\u001b[0m)             │           \u001b[38;5;34m256\u001b[0m │\n",
       "├─────────────────────────────────┼────────────────────────┼───────────────┤\n",
       "│ dropout_2 (\u001b[38;5;33mDropout\u001b[0m)             │ (\u001b[38;5;45mNone\u001b[0m, \u001b[38;5;34m64\u001b[0m)             │             \u001b[38;5;34m0\u001b[0m │\n",
       "├─────────────────────────────────┼────────────────────────┼───────────────┤\n",
       "│ dense_3 (\u001b[38;5;33mDense\u001b[0m)                 │ (\u001b[38;5;45mNone\u001b[0m, \u001b[38;5;34m32\u001b[0m)             │         \u001b[38;5;34m2,080\u001b[0m │\n",
       "├─────────────────────────────────┼────────────────────────┼───────────────┤\n",
       "│ dropout_3 (\u001b[38;5;33mDropout\u001b[0m)             │ (\u001b[38;5;45mNone\u001b[0m, \u001b[38;5;34m32\u001b[0m)             │             \u001b[38;5;34m0\u001b[0m │\n",
       "├─────────────────────────────────┼────────────────────────┼───────────────┤\n",
       "│ output (\u001b[38;5;33mDense\u001b[0m)                  │ (\u001b[38;5;45mNone\u001b[0m, \u001b[38;5;34m1\u001b[0m)              │            \u001b[38;5;34m33\u001b[0m │\n",
       "└─────────────────────────────────┴────────────────────────┴───────────────┘\n"
      ]
     },
     "metadata": {},
     "output_type": "display_data"
    },
    {
     "data": {
      "text/html": [
       "<pre style=\"white-space:pre;overflow-x:auto;line-height:normal;font-family:Menlo,'DejaVu Sans Mono',consolas,'Courier New',monospace\"><span style=\"font-weight: bold\"> Total params: </span><span style=\"color: #00af00; text-decoration-color: #00af00\">26,497</span> (103.50 KB)\n",
       "</pre>\n"
      ],
      "text/plain": [
       "\u001b[1m Total params: \u001b[0m\u001b[38;5;34m26,497\u001b[0m (103.50 KB)\n"
      ]
     },
     "metadata": {},
     "output_type": "display_data"
    },
    {
     "data": {
      "text/html": [
       "<pre style=\"white-space:pre;overflow-x:auto;line-height:normal;font-family:Menlo,'DejaVu Sans Mono',consolas,'Courier New',monospace\"><span style=\"font-weight: bold\"> Trainable params: </span><span style=\"color: #00af00; text-decoration-color: #00af00\">26,113</span> (102.00 KB)\n",
       "</pre>\n"
      ],
      "text/plain": [
       "\u001b[1m Trainable params: \u001b[0m\u001b[38;5;34m26,113\u001b[0m (102.00 KB)\n"
      ]
     },
     "metadata": {},
     "output_type": "display_data"
    },
    {
     "data": {
      "text/html": [
       "<pre style=\"white-space:pre;overflow-x:auto;line-height:normal;font-family:Menlo,'DejaVu Sans Mono',consolas,'Courier New',monospace\"><span style=\"font-weight: bold\"> Non-trainable params: </span><span style=\"color: #00af00; text-decoration-color: #00af00\">384</span> (1.50 KB)\n",
       "</pre>\n"
      ],
      "text/plain": [
       "\u001b[1m Non-trainable params: \u001b[0m\u001b[38;5;34m384\u001b[0m (1.50 KB)\n"
      ]
     },
     "metadata": {},
     "output_type": "display_data"
    }
   ],
   "source": [
    "#Build Neural Network Model\n",
    "print(\"Building neural network model...\")\n",
    "\n",
    "model = Sequential([\n",
    "    # First hidden layer\n",
    "    Dense(128, input_dim=X_train.shape[1], activation='relu', name='dense_1'),\n",
    "    BatchNormalization(name='bn_1'),\n",
    "    Dropout(0.3, name='dropout_1'),\n",
    "    \n",
    "    # Second hidden layer\n",
    "    Dense(64, activation='relu', name='dense_2'),\n",
    "    BatchNormalization(name='bn_2'),\n",
    "    Dropout(0.3, name='dropout_2'),\n",
    "    \n",
    "    # Third hidden layer\n",
    "    Dense(32, activation='relu', name='dense_3'),\n",
    "    Dropout(0.2, name='dropout_3'),\n",
    "    \n",
    "    # Output layer\n",
    "    Dense(1, activation='sigmoid', name='output')\n",
    "])\n",
    "\n",
    "# Compile with optimizer and loss function\n",
    "model.compile(\n",
    "    optimizer=Adam(learning_rate=0.001),\n",
    "    loss='binary_crossentropy',\n",
    "    metrics=['accuracy']\n",
    ")\n",
    "\n",
    "print(\"\\n✓ Model architecture:\")\n",
    "model.summary()\n"
   ]
  },
  {
   "cell_type": "code",
   "execution_count": 15,
   "id": "31b415fd",
   "metadata": {
    "execution": {
     "iopub.execute_input": "2025-10-23T14:11:24.928569Z",
     "iopub.status.busy": "2025-10-23T14:11:24.927780Z",
     "iopub.status.idle": "2025-10-23T14:11:30.305999Z",
     "shell.execute_reply": "2025-10-23T14:11:30.304982Z"
    },
    "papermill": {
     "duration": 5.386477,
     "end_time": "2025-10-23T14:11:30.307720",
     "exception": false,
     "start_time": "2025-10-23T14:11:24.921243",
     "status": "completed"
    },
    "tags": []
   },
   "outputs": [
    {
     "name": "stdout",
     "output_type": "stream",
     "text": [
      "Setting up training callbacks...\n",
      "✓ Callbacks configured\n",
      "\n",
      "Starting model training...\n",
      "============================================================\n",
      "Epoch 1/100\n",
      "\u001b[1m12/12\u001b[0m \u001b[32m━━━━━━━━━━━━━━━━━━━━\u001b[0m\u001b[37m\u001b[0m \u001b[1m4s\u001b[0m 39ms/step - accuracy: 0.5126 - loss: 0.8401 - val_accuracy: 0.5500 - val_loss: 0.7051 - learning_rate: 0.0010\n",
      "Epoch 2/100\n",
      "\u001b[1m12/12\u001b[0m \u001b[32m━━━━━━━━━━━━━━━━━━━━\u001b[0m\u001b[37m\u001b[0m \u001b[1m0s\u001b[0m 9ms/step - accuracy: 0.5274 - loss: 0.7469 - val_accuracy: 0.5250 - val_loss: 0.7193 - learning_rate: 0.0010\n",
      "Epoch 3/100\n",
      "\u001b[1m12/12\u001b[0m \u001b[32m━━━━━━━━━━━━━━━━━━━━\u001b[0m\u001b[37m\u001b[0m \u001b[1m0s\u001b[0m 9ms/step - accuracy: 0.6058 - loss: 0.7353 - val_accuracy: 0.5750 - val_loss: 0.7068 - learning_rate: 0.0010\n",
      "Epoch 4/100\n",
      "\u001b[1m 1/12\u001b[0m \u001b[32m━\u001b[0m\u001b[37m━━━━━━━━━━━━━━━━━━━\u001b[0m \u001b[1m0s\u001b[0m 28ms/step - accuracy: 0.5938 - loss: 0.6849\n",
      "Epoch 4: ReduceLROnPlateau reducing learning rate to 0.0005000000237487257.\n",
      "\u001b[1m12/12\u001b[0m \u001b[32m━━━━━━━━━━━━━━━━━━━━\u001b[0m\u001b[37m\u001b[0m \u001b[1m0s\u001b[0m 10ms/step - accuracy: 0.6194 - loss: 0.6800 - val_accuracy: 0.5750 - val_loss: 0.7063 - learning_rate: 0.0010\n",
      "Epoch 5/100\n",
      "\u001b[1m12/12\u001b[0m \u001b[32m━━━━━━━━━━━━━━━━━━━━\u001b[0m\u001b[37m\u001b[0m \u001b[1m0s\u001b[0m 9ms/step - accuracy: 0.6691 - loss: 0.6180 - val_accuracy: 0.5750 - val_loss: 0.7131 - learning_rate: 5.0000e-04\n",
      "Epoch 6/100\n",
      "\u001b[1m12/12\u001b[0m \u001b[32m━━━━━━━━━━━━━━━━━━━━\u001b[0m\u001b[37m\u001b[0m \u001b[1m0s\u001b[0m 9ms/step - accuracy: 0.6473 - loss: 0.6857 - val_accuracy: 0.6000 - val_loss: 0.7248 - learning_rate: 5.0000e-04\n",
      "Epoch 7/100\n",
      "\u001b[1m 1/12\u001b[0m \u001b[32m━\u001b[0m\u001b[37m━━━━━━━━━━━━━━━━━━━\u001b[0m \u001b[1m0s\u001b[0m 27ms/step - accuracy: 0.5938 - loss: 0.6685\n",
      "Epoch 7: ReduceLROnPlateau reducing learning rate to 0.0002500000118743628.\n",
      "\u001b[1m12/12\u001b[0m \u001b[32m━━━━━━━━━━━━━━━━━━━━\u001b[0m\u001b[37m\u001b[0m \u001b[1m0s\u001b[0m 9ms/step - accuracy: 0.6542 - loss: 0.6216 - val_accuracy: 0.6250 - val_loss: 0.7267 - learning_rate: 5.0000e-04\n",
      "Epoch 8/100\n",
      "\u001b[1m12/12\u001b[0m \u001b[32m━━━━━━━━━━━━━━━━━━━━\u001b[0m\u001b[37m\u001b[0m \u001b[1m0s\u001b[0m 9ms/step - accuracy: 0.6623 - loss: 0.6324 - val_accuracy: 0.6250 - val_loss: 0.7248 - learning_rate: 2.5000e-04\n",
      "Epoch 8: early stopping\n",
      "Restoring model weights from the end of the best epoch: 1.\n",
      "\n",
      "============================================================\n",
      "✓ Training complete!\n"
     ]
    }
   ],
   "source": [
    "#Setup Training Callbacks\n",
    "print(\"Setting up training callbacks...\")\n",
    "\n",
    "# Early stopping: stop if val_loss doesn't improve for 7 epochs\n",
    "early_stopping = EarlyStopping(\n",
    "    monitor='val_loss',\n",
    "    patience=7,\n",
    "    restore_best_weights=True,\n",
    "    verbose=1\n",
    ")\n",
    "\n",
    "# Learning rate reduction: cut LR in half if val_loss plateaus\n",
    "lr_reducer = ReduceLROnPlateau(\n",
    "    monitor='val_loss',\n",
    "    factor=0.5,\n",
    "    patience=3,\n",
    "    min_lr=1e-6,\n",
    "    verbose=1\n",
    ")\n",
    "\n",
    "print(\"✓ Callbacks configured\")\n",
    "\n",
    "\n",
    "# ============================================================================\n",
    "# CELL 15: Train the Model\n",
    "# ============================================================================\n",
    "# This is where the magic happens!\n",
    "\n",
    "print(\"\\nStarting model training...\")\n",
    "print(\"=\" * 60)\n",
    "\n",
    "history = model.fit(\n",
    "    X_train, \n",
    "    y_train,\n",
    "    epochs=100,\n",
    "    batch_size=32,\n",
    "    validation_split=0.1,  # Use 10% of training data for validation\n",
    "    class_weight=class_weights_dict,  # Handle class imbalance\n",
    "    callbacks=[early_stopping, lr_reducer],\n",
    "    verbose=1\n",
    ")\n",
    "\n",
    "print(\"\\n\" + \"=\" * 60)\n",
    "print(\"✓ Training complete!\")"
   ]
  },
  {
   "cell_type": "code",
   "execution_count": 16,
   "id": "a6c875f0",
   "metadata": {
    "execution": {
     "iopub.execute_input": "2025-10-23T14:11:30.324654Z",
     "iopub.status.busy": "2025-10-23T14:11:30.323723Z",
     "iopub.status.idle": "2025-10-23T14:11:30.637381Z",
     "shell.execute_reply": "2025-10-23T14:11:30.636312Z"
    },
    "papermill": {
     "duration": 0.323746,
     "end_time": "2025-10-23T14:11:30.638857",
     "exception": false,
     "start_time": "2025-10-23T14:11:30.315111",
     "status": "completed"
    },
    "tags": []
   },
   "outputs": [
    {
     "name": "stdout",
     "output_type": "stream",
     "text": [
      "Making predictions on test set...\n",
      "✓ Predictions complete for 100 test samples\n"
     ]
    }
   ],
   "source": [
    "#Make Predictions\n",
    "print(\"Making predictions on test set...\")\n",
    "\n",
    "# Get probability predictions\n",
    "y_pred_prob = model.predict(X_test, verbose=0)\n",
    "\n",
    "# Convert probabilities to binary predictions (threshold = 0.5)\n",
    "y_pred = (y_pred_prob > 0.5).astype(int).flatten()\n",
    "\n",
    "print(f\"✓ Predictions complete for {len(y_pred)} test samples\")"
   ]
  },
  {
   "cell_type": "code",
   "execution_count": 17,
   "id": "1379f4a6",
   "metadata": {
    "execution": {
     "iopub.execute_input": "2025-10-23T14:11:30.654708Z",
     "iopub.status.busy": "2025-10-23T14:11:30.653861Z",
     "iopub.status.idle": "2025-10-23T14:11:30.676058Z",
     "shell.execute_reply": "2025-10-23T14:11:30.674925Z"
    },
    "papermill": {
     "duration": 0.031626,
     "end_time": "2025-10-23T14:11:30.677648",
     "exception": false,
     "start_time": "2025-10-23T14:11:30.646022",
     "status": "completed"
    },
    "tags": []
   },
   "outputs": [
    {
     "name": "stdout",
     "output_type": "stream",
     "text": [
      "\n",
      "============================================================\n",
      "MODEL PERFORMANCE METRICS\n",
      "============================================================\n",
      "\n",
      "📊 Test Accuracy: 0.4500 (45.00%)\n",
      "📊 Baseline Accuracy (always predict 1): 0.5900 (59.00%)\n",
      "📈 Improvement over baseline: -14.00 percentage points\n",
      "📊 ROC-AUC Score: 0.6507\n",
      "\n",
      "============================================================\n",
      "DETAILED CLASSIFICATION REPORT\n",
      "============================================================\n",
      "              precision    recall  f1-score   support\n",
      "\n",
      "    DOWN (0)       0.43      0.98      0.59        41\n",
      "      UP (1)       0.83      0.08      0.15        59\n",
      "\n",
      "    accuracy                           0.45       100\n",
      "   macro avg       0.63      0.53      0.37       100\n",
      "weighted avg       0.67      0.45      0.33       100\n",
      "\n"
     ]
    }
   ],
   "source": [
    "#Evaluate Model Performance\n",
    "print(\"\\n\" + \"=\" * 60)\n",
    "print(\"MODEL PERFORMANCE METRICS\")\n",
    "print(\"=\" * 60)\n",
    "\n",
    "# Calculate accuracy\n",
    "accuracy = accuracy_score(y_test, y_pred)\n",
    "print(f\"\\n📊 Test Accuracy: {accuracy:.4f} ({accuracy*100:.2f}%)\")\n",
    "\n",
    "# Calculate baseline (always predict majority class)\n",
    "majority_class = y_train.mode()[0]\n",
    "baseline_acc = accuracy_score(y_test, [majority_class] * len(y_test))\n",
    "print(f\"📊 Baseline Accuracy (always predict {majority_class}): {baseline_acc:.4f} ({baseline_acc*100:.2f}%)\")\n",
    "print(f\"📈 Improvement over baseline: {(accuracy - baseline_acc)*100:.2f} percentage points\")\n",
    "\n",
    "# ROC-AUC Score\n",
    "try:\n",
    "    roc_auc = roc_auc_score(y_test, y_pred_prob)\n",
    "    print(f\"📊 ROC-AUC Score: {roc_auc:.4f}\")\n",
    "except:\n",
    "    print(\"📊 ROC-AUC Score: Could not calculate\")\n",
    "\n",
    "# Detailed classification report\n",
    "print(\"\\n\" + \"=\" * 60)\n",
    "print(\"DETAILED CLASSIFICATION REPORT\")\n",
    "print(\"=\" * 60)\n",
    "print(classification_report(y_test, y_pred, target_names=['DOWN (0)', 'UP (1)']))"
   ]
  },
  {
   "cell_type": "code",
   "execution_count": null,
   "id": "704d2636",
   "metadata": {
    "papermill": {
     "duration": 0.00681,
     "end_time": "2025-10-23T14:11:30.691791",
     "exception": false,
     "start_time": "2025-10-23T14:11:30.684981",
     "status": "completed"
    },
    "tags": []
   },
   "outputs": [],
   "source": []
  }
 ],
 "metadata": {
  "kaggle": {
   "accelerator": "none",
   "dataSources": [],
   "dockerImageVersionId": 31153,
   "isGpuEnabled": false,
   "isInternetEnabled": true,
   "language": "python",
   "sourceType": "notebook"
  },
  "kernelspec": {
   "display_name": "Python 3",
   "language": "python",
   "name": "python3"
  },
  "language_info": {
   "codemirror_mode": {
    "name": "ipython",
    "version": 3
   },
   "file_extension": ".py",
   "mimetype": "text/x-python",
   "name": "python",
   "nbconvert_exporter": "python",
   "pygments_lexer": "ipython3",
   "version": "3.11.13"
  },
  "papermill": {
   "default_parameters": {},
   "duration": 44.151283,
   "end_time": "2025-10-23T14:11:33.555670",
   "environment_variables": {},
   "exception": null,
   "input_path": "__notebook__.ipynb",
   "output_path": "__notebook__.ipynb",
   "parameters": {},
   "start_time": "2025-10-23T14:10:49.404387",
   "version": "2.6.0"
  }
 },
 "nbformat": 4,
 "nbformat_minor": 5
}
