{
 "cells": [
  {
   "cell_type": "code",
   "execution_count": 1,
   "id": "275576b7",
   "metadata": {
    "_cell_guid": "b1076dfc-b9ad-4769-8c92-a6c4dae69d19",
    "_uuid": "8f2839f25d086af736a60e9eeb907d3b93b6e0e5",
    "execution": {
     "iopub.execute_input": "2025-10-25T02:39:02.871981Z",
     "iopub.status.busy": "2025-10-25T02:39:02.871685Z",
     "iopub.status.idle": "2025-10-25T02:39:04.698414Z",
     "shell.execute_reply": "2025-10-25T02:39:04.697423Z"
    },
    "papermill": {
     "duration": 1.834409,
     "end_time": "2025-10-25T02:39:04.700037",
     "exception": false,
     "start_time": "2025-10-25T02:39:02.865628",
     "status": "completed"
    },
    "tags": []
   },
   "outputs": [],
   "source": [
    "# This Python 3 environment comes with many helpful analytics libraries installed\n",
    "# It is defined by the kaggle/python Docker image: https://github.com/kaggle/docker-python\n",
    "# For example, here's several helpful packages to load\n",
    "\n",
    "import numpy as np # linear algebra\n",
    "import pandas as pd # data processing, CSV file I/O (e.g. pd.read_csv)\n",
    "\n",
    "# Input data files are available in the read-only \"../input/\" directory\n",
    "# For example, running this (by clicking run or pressing Shift+Enter) will list all files under the input directory\n",
    "\n",
    "import os\n",
    "for dirname, _, filenames in os.walk('/kaggle/input'):\n",
    "    for filename in filenames:\n",
    "        print(os.path.join(dirname, filename))\n",
    "\n",
    "# You can write up to 20GB to the current directory (/kaggle/working/) that gets preserved as output when you create a version using \"Save & Run All\" \n",
    "# You can also write temporary files to /kaggle/temp/, but they won't be saved outside of the current session"
   ]
  },
  {
   "cell_type": "code",
   "execution_count": 2,
   "id": "9ab4cd72",
   "metadata": {
    "execution": {
     "iopub.execute_input": "2025-10-25T02:39:04.709377Z",
     "iopub.status.busy": "2025-10-25T02:39:04.708541Z",
     "iopub.status.idle": "2025-10-25T02:39:12.036244Z",
     "shell.execute_reply": "2025-10-25T02:39:12.035062Z"
    },
    "papermill": {
     "duration": 7.333782,
     "end_time": "2025-10-25T02:39:12.037820",
     "exception": false,
     "start_time": "2025-10-25T02:39:04.704038",
     "status": "completed"
    },
    "tags": []
   },
   "outputs": [
    {
     "name": "stdout",
     "output_type": "stream",
     "text": [
      "  Preparing metadata (setup.py) ... \u001b[?25l\u001b[?25hdone\r\n",
      "  Building wheel for ta (setup.py) ... \u001b[?25l\u001b[?25hdone\r\n",
      "✓ Packages installed successfully!\n"
     ]
    }
   ],
   "source": [
    "!pip install -q yfinance ta\n",
    "\n",
    "print(\"✓ Packages installed successfully!\")"
   ]
  },
  {
   "cell_type": "code",
   "execution_count": 3,
   "id": "5ee56548",
   "metadata": {
    "execution": {
     "iopub.execute_input": "2025-10-25T02:39:12.047497Z",
     "iopub.status.busy": "2025-10-25T02:39:12.047143Z",
     "iopub.status.idle": "2025-10-25T02:39:30.949335Z",
     "shell.execute_reply": "2025-10-25T02:39:30.948449Z"
    },
    "papermill": {
     "duration": 18.908839,
     "end_time": "2025-10-25T02:39:30.950868",
     "exception": false,
     "start_time": "2025-10-25T02:39:12.042029",
     "status": "completed"
    },
    "tags": []
   },
   "outputs": [
    {
     "name": "stderr",
     "output_type": "stream",
     "text": [
      "2025-10-25 02:39:17.502685: E external/local_xla/xla/stream_executor/cuda/cuda_fft.cc:477] Unable to register cuFFT factory: Attempting to register factory for plugin cuFFT when one has already been registered\n",
      "WARNING: All log messages before absl::InitializeLog() is called are written to STDERR\n",
      "E0000 00:00:1761359957.759024      13 cuda_dnn.cc:8310] Unable to register cuDNN factory: Attempting to register factory for plugin cuDNN when one has already been registered\n",
      "E0000 00:00:1761359957.831844      13 cuda_blas.cc:1418] Unable to register cuBLAS factory: Attempting to register factory for plugin cuBLAS when one has already been registered\n"
     ]
    },
    {
     "name": "stdout",
     "output_type": "stream",
     "text": [
      "✓ All libraries imported successfully!\n",
      "TensorFlow version: 2.18.0\n"
     ]
    }
   ],
   "source": [
    "import pandas as pd\n",
    "import numpy as np\n",
    "import warnings\n",
    "warnings.filterwarnings('ignore')\n",
    "\n",
    "# Data fetching and technical analysis\n",
    "import yfinance as yf\n",
    "from ta import add_all_ta_features\n",
    "\n",
    "# Visualization\n",
    "import matplotlib.pyplot as plt\n",
    "import seaborn as sns\n",
    "sns.set_style('whitegrid')\n",
    "\n",
    "# Machine learning preprocessing\n",
    "from sklearn.preprocessing import StandardScaler\n",
    "from sklearn.model_selection import train_test_split\n",
    "from sklearn.utils.class_weight import compute_class_weight\n",
    "from sklearn.metrics import (\n",
    "    accuracy_score, \n",
    "    classification_report, \n",
    "    confusion_matrix,\n",
    "    roc_auc_score,\n",
    "    roc_curve\n",
    ")\n",
    "from sklearn.inspection import permutation_importance\n",
    "\n",
    "# Deep learning\n",
    "import tensorflow as tf\n",
    "from tensorflow.keras.models import Sequential\n",
    "from tensorflow.keras.layers import Dense, Dropout, BatchNormalization\n",
    "from tensorflow.keras.callbacks import EarlyStopping, ReduceLROnPlateau\n",
    "from tensorflow.keras.optimizers import Adam\n",
    "\n",
    "# Set random seeds for reproducibility\n",
    "np.random.seed(42)\n",
    "tf.random.set_seed(42)\n",
    "\n",
    "print(\"✓ All libraries imported successfully!\")\n",
    "print(f\"TensorFlow version: {tf.__version__}\")"
   ]
  },
  {
   "cell_type": "code",
   "execution_count": 4,
   "id": "d468e7d8",
   "metadata": {
    "execution": {
     "iopub.execute_input": "2025-10-25T02:39:30.960283Z",
     "iopub.status.busy": "2025-10-25T02:39:30.959694Z",
     "iopub.status.idle": "2025-10-25T02:39:31.541774Z",
     "shell.execute_reply": "2025-10-25T02:39:31.540774Z"
    },
    "papermill": {
     "duration": 0.588248,
     "end_time": "2025-10-25T02:39:31.543088",
     "exception": false,
     "start_time": "2025-10-25T02:39:30.954840",
     "status": "completed"
    },
    "tags": []
   },
   "outputs": [
    {
     "name": "stdout",
     "output_type": "stream",
     "text": [
      "Downloading AAPL data for the last 2y...\n",
      "✓ Downloaded 502 days of data\n",
      "Date range: 2023-10-25 to 2025-10-24\n",
      "\n",
      "First few rows:\n",
      "                  Open        High         Low       Close    Volume\n",
      "Date                                                                \n",
      "2023-10-25  169.440369  171.381349  168.994721  170.212802  57157000\n",
      "2023-10-26  165.271164  169.717616  164.062997  168.717404  70625300\n",
      "2023-10-27  166.588287  167.321115  165.211771  165.290997  58499100\n",
      "2023-10-30  168.638184  169.509652  167.231959  167.380513  51131000\n",
      "2023-10-31  169.113541  169.242269  166.271369  167.707316  44846000\n"
     ]
    }
   ],
   "source": [
    "# Using Apple (AAPL) as our example stock\n",
    "ticker = 'AAPL'\n",
    "period = '2y'  # Using 2 years for more training data\n",
    "\n",
    "print(f\"Downloading {ticker} data for the last {period}...\")\n",
    "\n",
    "data = yf.download(ticker, period=period, interval='1d', progress=False)\n",
    "\n",
    "# FIX: yfinance sometimes returns MultiIndex columns, flatten them\n",
    "if isinstance(data.columns, pd.MultiIndex):\n",
    "    data.columns = data.columns.get_level_values(0)\n",
    "\n",
    "# Ensure correct column names dynamically\n",
    "expected_cols = ['Open', 'High', 'Low', 'Close', 'Adj Close', 'Volume']\n",
    "actual_cols = list(data.columns)\n",
    "\n",
    "# If only 5 columns exist (no 'Adj Close')\n",
    "if len(actual_cols) == 5:\n",
    "    data.columns = ['Open', 'High', 'Low', 'Close', 'Volume']\n",
    "else:\n",
    "    data.columns = expected_cols[:len(actual_cols)]\n",
    "\n",
    "print(f\"✓ Downloaded {len(data)} days of data\")\n",
    "print(f\"Date range: {data.index[0].date()} to {data.index[-1].date()}\")\n",
    "print(\"\\nFirst few rows:\")\n",
    "print(data.head())\n"
   ]
  },
  {
   "cell_type": "code",
   "execution_count": 5,
   "id": "ffc5f25b",
   "metadata": {
    "execution": {
     "iopub.execute_input": "2025-10-25T02:39:31.553071Z",
     "iopub.status.busy": "2025-10-25T02:39:31.552275Z",
     "iopub.status.idle": "2025-10-25T02:39:31.788547Z",
     "shell.execute_reply": "2025-10-25T02:39:31.787617Z"
    },
    "papermill": {
     "duration": 0.242357,
     "end_time": "2025-10-25T02:39:31.789878",
     "exception": false,
     "start_time": "2025-10-25T02:39:31.547521",
     "status": "completed"
    },
    "tags": []
   },
   "outputs": [
    {
     "name": "stdout",
     "output_type": "stream",
     "text": [
      "Adding technical indicators...\n",
      "✓ Technical indicators added! Now we have 91 features\n",
      "Remaining data points: 502\n"
     ]
    }
   ],
   "source": [
    "print(\"Adding technical indicators...\")\n",
    "\n",
    "# Flatten any 2D columns into 1D\n",
    "for col in ['Open', 'High', 'Low', 'Close', 'Volume']:\n",
    "    if isinstance(data[col].iloc[0], (np.ndarray, list)):\n",
    "        data[col] = data[col].apply(lambda x: x[0])\n",
    "\n",
    "# Add technical indicators\n",
    "data = add_all_ta_features(\n",
    "    data, \n",
    "    open=\"Open\", \n",
    "    high=\"High\", \n",
    "    low=\"Low\", \n",
    "    close=\"Close\", \n",
    "    volume=\"Volume\",\n",
    "    fillna=True\n",
    ")\n",
    "\n",
    "# Drop any remaining NaN values\n",
    "data.dropna(inplace=True)\n",
    "\n",
    "print(f\"✓ Technical indicators added! Now we have {data.shape[1]} features\")\n",
    "print(f\"Remaining data points: {len(data)}\")\n"
   ]
  },
  {
   "cell_type": "code",
   "execution_count": 6,
   "id": "dc1a338b",
   "metadata": {
    "execution": {
     "iopub.execute_input": "2025-10-25T02:39:31.799333Z",
     "iopub.status.busy": "2025-10-25T02:39:31.798663Z",
     "iopub.status.idle": "2025-10-25T02:39:31.811838Z",
     "shell.execute_reply": "2025-10-25T02:39:31.810967Z"
    },
    "papermill": {
     "duration": 0.019141,
     "end_time": "2025-10-25T02:39:31.813019",
     "exception": false,
     "start_time": "2025-10-25T02:39:31.793878",
     "status": "completed"
    },
    "tags": []
   },
   "outputs": [
    {
     "name": "stdout",
     "output_type": "stream",
     "text": [
      "Engineering custom features...\n",
      "✓ Returns and volatility features added\n"
     ]
    }
   ],
   "source": [
    "#Feature Engineering - Returns and Volatality\n",
    "print(\"Engineering custom features...\")\n",
    "\n",
    "# Daily returns (percentage change)\n",
    "data['Return'] = data['Close'].pct_change()\n",
    "\n",
    "# Rolling volatility (standard deviation of returns)\n",
    "data['Volatility_3d'] = data['Return'].rolling(window=3).std()\n",
    "data['Volatility_5d'] = data['Return'].rolling(window=5).std()\n",
    "data['Volatility_7d'] = data['Return'].rolling(window=7).std()\n",
    "\n",
    "# Volume changes\n",
    "data['Volume_Change'] = data['Volume'].pct_change()\n",
    "\n",
    "# Price momentum over different periods\n",
    "data['Momentum_3d'] = data['Close'] / data['Close'].shift(3) - 1\n",
    "data['Momentum_5d'] = data['Close'] / data['Close'].shift(5) - 1\n",
    "\n",
    "print(\"✓ Returns and volatility features added\")"
   ]
  },
  {
   "cell_type": "code",
   "execution_count": 7,
   "id": "39a7a102",
   "metadata": {
    "execution": {
     "iopub.execute_input": "2025-10-25T02:39:31.822583Z",
     "iopub.status.busy": "2025-10-25T02:39:31.822071Z",
     "iopub.status.idle": "2025-10-25T02:39:31.836167Z",
     "shell.execute_reply": "2025-10-25T02:39:31.835225Z"
    },
    "papermill": {
     "duration": 0.020166,
     "end_time": "2025-10-25T02:39:31.837541",
     "exception": false,
     "start_time": "2025-10-25T02:39:31.817375",
     "status": "completed"
    },
    "tags": []
   },
   "outputs": [
    {
     "name": "stdout",
     "output_type": "stream",
     "text": [
      "Adding lag features for temporal context...\n",
      "✓ Added lag features for 4 indicators\n",
      "Total lag features created: 16\n"
     ]
    }
   ],
   "source": [
    "#Feature Engineering - Lag Features (Temporal Memory)\n",
    "print(\"Adding lag features for temporal context...\")\n",
    "\n",
    "# We'll add lags for the most important indicators\n",
    "lag_features = ['Return', 'momentum_rsi', 'trend_macd', 'Volume']\n",
    "lag_periods = [1, 2, 3, 5]  # Yesterday, 2 days ago, 3 days ago, 5 days ago\n",
    "\n",
    "for feature in lag_features:\n",
    "    if feature in data.columns:\n",
    "        for lag in lag_periods:\n",
    "            data[f'{feature}_Lag{lag}'] = data[feature].shift(lag)\n",
    "\n",
    "print(f\"✓ Added lag features for {len(lag_features)} indicators\")\n",
    "print(f\"Total lag features created: {len(lag_features) * len(lag_periods)}\")"
   ]
  },
  {
   "cell_type": "code",
   "execution_count": 8,
   "id": "f321c240",
   "metadata": {
    "execution": {
     "iopub.execute_input": "2025-10-25T02:39:31.846760Z",
     "iopub.status.busy": "2025-10-25T02:39:31.846475Z",
     "iopub.status.idle": "2025-10-25T02:39:31.873506Z",
     "shell.execute_reply": "2025-10-25T02:39:31.872601Z"
    },
    "papermill": {
     "duration": 0.033191,
     "end_time": "2025-10-25T02:39:31.874885",
     "exception": false,
     "start_time": "2025-10-25T02:39:31.841694",
     "status": "completed"
    },
    "tags": []
   },
   "outputs": [
    {
     "name": "stdout",
     "output_type": "stream",
     "text": [
      "Adding relative price position features...\n",
      "✓ Relative position features added\n",
      "Final dataset size: 495 days\n"
     ]
    }
   ],
   "source": [
    "#Feature Engineering - Relative Price Positions\n",
    "print(\"Adding relative price position features...\")\n",
    "\n",
    "# Price relative to moving averages (trend indicators)\n",
    "data['Price_vs_SMA20'] = data['Close'] / data['trend_sma_fast']\n",
    "data['Price_vs_SMA50'] = data['Close'] / data['trend_sma_slow']\n",
    "\n",
    "# Distance from Bollinger Bands (volatility indicators)\n",
    "if 'volatility_bbh' in data.columns and 'volatility_bbl' in data.columns:\n",
    "    bb_range = data['volatility_bbh'] - data['volatility_bbl']\n",
    "    data['BB_Position'] = (data['Close'] - data['volatility_bbl']) / bb_range\n",
    "    \n",
    "# RSI overbought/oversold signals\n",
    "if 'momentum_rsi' in data.columns:\n",
    "    data['RSI_Overbought'] = (data['momentum_rsi'] > 70).astype(int)\n",
    "    data['RSI_Oversold'] = (data['momentum_rsi'] < 30).astype(int)\n",
    "\n",
    "print(\"✓ Relative position features added\")\n",
    "\n",
    "# Clean up any NaN values created by our feature engineering\n",
    "data.dropna(inplace=True)\n",
    "print(f\"Final dataset size: {len(data)} days\")\n"
   ]
  },
  {
   "cell_type": "code",
   "execution_count": 9,
   "id": "fa7dbea1",
   "metadata": {
    "execution": {
     "iopub.execute_input": "2025-10-25T02:39:31.884718Z",
     "iopub.status.busy": "2025-10-25T02:39:31.883979Z",
     "iopub.status.idle": "2025-10-25T02:39:31.895129Z",
     "shell.execute_reply": "2025-10-25T02:39:31.894140Z"
    },
    "papermill": {
     "duration": 0.017294,
     "end_time": "2025-10-25T02:39:31.896511",
     "exception": false,
     "start_time": "2025-10-25T02:39:31.879217",
     "status": "completed"
    },
    "tags": []
   },
   "outputs": [
    {
     "name": "stdout",
     "output_type": "stream",
     "text": [
      "Creating target variable...\n",
      "\n",
      "Target variable distribution:\n",
      "Target\n",
      "1    265\n",
      "0    230\n",
      "Name: count, dtype: int64\n",
      "Class balance: 53.5% UP days, 46.5% DOWN days\n"
     ]
    }
   ],
   "source": [
    "#Target Variable\n",
    "print(\"Creating target variable...\")\n",
    "\n",
    "# Shift close price by -1 to get tomorrow's price\n",
    "data['Target'] = (data['Close'].shift(-1) > data['Close']).astype(int)\n",
    "\n",
    "# Drop the last row (we don't have tomorrow's price for it)\n",
    "data.dropna(inplace=True)\n",
    "\n",
    "# Check class distribution\n",
    "class_distribution = data['Target'].value_counts()\n",
    "print(\"\\nTarget variable distribution:\")\n",
    "print(class_distribution)\n",
    "print(f\"Class balance: {class_distribution[1]/len(data)*100:.1f}% UP days, \"\n",
    "      f\"{class_distribution[0]/len(data)*100:.1f}% DOWN days\")\n"
   ]
  },
  {
   "cell_type": "code",
   "execution_count": 10,
   "id": "5e0c165b",
   "metadata": {
    "execution": {
     "iopub.execute_input": "2025-10-25T02:39:31.906038Z",
     "iopub.status.busy": "2025-10-25T02:39:31.905780Z",
     "iopub.status.idle": "2025-10-25T02:39:31.912304Z",
     "shell.execute_reply": "2025-10-25T02:39:31.911448Z"
    },
    "papermill": {
     "duration": 0.012914,
     "end_time": "2025-10-25T02:39:31.913682",
     "exception": false,
     "start_time": "2025-10-25T02:39:31.900768",
     "status": "completed"
    },
    "tags": []
   },
   "outputs": [
    {
     "name": "stdout",
     "output_type": "stream",
     "text": [
      "Preparing feature matrix...\n",
      "✓ Feature matrix shape: (495, 119)\n",
      "Number of features: 119\n",
      "Number of samples: 495\n"
     ]
    }
   ],
   "source": [
    "#Prepare Features and Target\n",
    "print(\"Preparing feature matrix...\")\n",
    "\n",
    "# Columns to exclude from features\n",
    "exclude_cols = ['Target', 'Adj Close']\n",
    "\n",
    "# Get all feature columns\n",
    "feature_columns = [col for col in data.columns if col not in exclude_cols]\n",
    "\n",
    "X = data[feature_columns]\n",
    "y = data['Target']\n",
    "\n",
    "print(f\"✓ Feature matrix shape: {X.shape}\")\n",
    "print(f\"Number of features: {X.shape[1]}\")\n",
    "print(f\"Number of samples: {X.shape[0]}\")"
   ]
  },
  {
   "cell_type": "code",
   "execution_count": 11,
   "id": "7dc55537",
   "metadata": {
    "execution": {
     "iopub.execute_input": "2025-10-25T02:39:31.923120Z",
     "iopub.status.busy": "2025-10-25T02:39:31.922868Z",
     "iopub.status.idle": "2025-10-25T02:39:31.949695Z",
     "shell.execute_reply": "2025-10-25T02:39:31.948722Z"
    },
    "papermill": {
     "duration": 0.03321,
     "end_time": "2025-10-25T02:39:31.951201",
     "exception": false,
     "start_time": "2025-10-25T02:39:31.917991",
     "status": "completed"
    },
    "tags": []
   },
   "outputs": [
    {
     "name": "stdout",
     "output_type": "stream",
     "text": [
      "Scaling features...\n",
      "✓ Features scaled using StandardScaler\n",
      "Scaled data shape: (495, 119)\n"
     ]
    }
   ],
   "source": [
    "#Feature Scaling\n",
    "print(\"Scaling features...\")\n",
    "\n",
    "scaler = StandardScaler()\n",
    "X_scaled = scaler.fit_transform(X)\n",
    "\n",
    "print(\"✓ Features scaled using StandardScaler\")\n",
    "print(f\"Scaled data shape: {X_scaled.shape}\")"
   ]
  },
  {
   "cell_type": "code",
   "execution_count": 12,
   "id": "aebf09df",
   "metadata": {
    "execution": {
     "iopub.execute_input": "2025-10-25T02:39:31.960903Z",
     "iopub.status.busy": "2025-10-25T02:39:31.960603Z",
     "iopub.status.idle": "2025-10-25T02:39:31.966751Z",
     "shell.execute_reply": "2025-10-25T02:39:31.965948Z"
    },
    "papermill": {
     "duration": 0.012468,
     "end_time": "2025-10-25T02:39:31.968056",
     "exception": false,
     "start_time": "2025-10-25T02:39:31.955588",
     "status": "completed"
    },
    "tags": []
   },
   "outputs": [
    {
     "name": "stdout",
     "output_type": "stream",
     "text": [
      "Splitting data into train and test sets...\n",
      "✓ Training set: 396 samples\n",
      "✓ Test set: 99 samples\n",
      "\n",
      "Train period: 2023-11-03 to 2025-06-04\n",
      "Test period: 2025-06-05 to 2025-10-24\n"
     ]
    }
   ],
   "source": [
    "#Train-Test Split (Temporal)\n",
    "print(\"Splitting data into train and test sets...\")\n",
    "\n",
    "# Use 80% for training, 20% for testing\n",
    "train_size = int(len(X_scaled) * 0.8)\n",
    "\n",
    "X_train = X_scaled[:train_size]\n",
    "X_test = X_scaled[train_size:]\n",
    "y_train = y[:train_size]\n",
    "y_test = y[train_size:]\n",
    "\n",
    "print(f\"✓ Training set: {len(X_train)} samples\")\n",
    "print(f\"✓ Test set: {len(X_test)} samples\")\n",
    "print(f\"\\nTrain period: {data.index[0].date()} to {data.index[train_size-1].date()}\")\n",
    "print(f\"Test period: {data.index[train_size].date()} to {data.index[-1].date()}\")"
   ]
  },
  {
   "cell_type": "code",
   "execution_count": 13,
   "id": "1a12c815",
   "metadata": {
    "execution": {
     "iopub.execute_input": "2025-10-25T02:39:31.978263Z",
     "iopub.status.busy": "2025-10-25T02:39:31.977972Z",
     "iopub.status.idle": "2025-10-25T02:39:31.985781Z",
     "shell.execute_reply": "2025-10-25T02:39:31.984956Z"
    },
    "papermill": {
     "duration": 0.014464,
     "end_time": "2025-10-25T02:39:31.987165",
     "exception": false,
     "start_time": "2025-10-25T02:39:31.972701",
     "status": "completed"
    },
    "tags": []
   },
   "outputs": [
    {
     "name": "stdout",
     "output_type": "stream",
     "text": [
      "Calculating class weights to handle imbalance...\n",
      "Class weights:\n",
      "  DOWN (0): 1.048\n",
      "  UP (1): 0.957\n"
     ]
    }
   ],
   "source": [
    "#Calculate Class Weights\n",
    "print(\"Calculating class weights to handle imbalance...\")\n",
    "\n",
    "class_weights = compute_class_weight(\n",
    "    class_weight='balanced',\n",
    "    classes=np.unique(y_train),\n",
    "    y=y_train\n",
    ")\n",
    "\n",
    "class_weights_dict = {i: weight for i, weight in enumerate(class_weights)}\n",
    "\n",
    "print(\"Class weights:\")\n",
    "for class_label, weight in class_weights_dict.items():\n",
    "    class_name = \"DOWN (0)\" if class_label == 0 else \"UP (1)\"\n",
    "    print(f\"  {class_name}: {weight:.3f}\")"
   ]
  },
  {
   "cell_type": "code",
   "execution_count": 14,
   "id": "7b143880",
   "metadata": {
    "execution": {
     "iopub.execute_input": "2025-10-25T02:39:31.997704Z",
     "iopub.status.busy": "2025-10-25T02:39:31.997090Z",
     "iopub.status.idle": "2025-10-25T02:39:32.148849Z",
     "shell.execute_reply": "2025-10-25T02:39:32.148096Z"
    },
    "papermill": {
     "duration": 0.158299,
     "end_time": "2025-10-25T02:39:32.150096",
     "exception": false,
     "start_time": "2025-10-25T02:39:31.991797",
     "status": "completed"
    },
    "tags": []
   },
   "outputs": [
    {
     "name": "stdout",
     "output_type": "stream",
     "text": [
      "Building neural network model...\n",
      "\n",
      "✓ Model architecture:\n"
     ]
    },
    {
     "name": "stderr",
     "output_type": "stream",
     "text": [
      "2025-10-25 02:39:32.006546: E external/local_xla/xla/stream_executor/cuda/cuda_driver.cc:152] failed call to cuInit: INTERNAL: CUDA error: Failed call to cuInit: UNKNOWN ERROR (303)\n"
     ]
    },
    {
     "data": {
      "text/html": [
       "<pre style=\"white-space:pre;overflow-x:auto;line-height:normal;font-family:Menlo,'DejaVu Sans Mono',consolas,'Courier New',monospace\"><span style=\"font-weight: bold\">Model: \"sequential\"</span>\n",
       "</pre>\n"
      ],
      "text/plain": [
       "\u001b[1mModel: \"sequential\"\u001b[0m\n"
      ]
     },
     "metadata": {},
     "output_type": "display_data"
    },
    {
     "data": {
      "text/html": [
       "<pre style=\"white-space:pre;overflow-x:auto;line-height:normal;font-family:Menlo,'DejaVu Sans Mono',consolas,'Courier New',monospace\">┏━━━━━━━━━━━━━━━━━━━━━━━━━━━━━━━━━┳━━━━━━━━━━━━━━━━━━━━━━━━┳━━━━━━━━━━━━━━━┓\n",
       "┃<span style=\"font-weight: bold\"> Layer (type)                    </span>┃<span style=\"font-weight: bold\"> Output Shape           </span>┃<span style=\"font-weight: bold\">       Param # </span>┃\n",
       "┡━━━━━━━━━━━━━━━━━━━━━━━━━━━━━━━━━╇━━━━━━━━━━━━━━━━━━━━━━━━╇━━━━━━━━━━━━━━━┩\n",
       "│ dense_1 (<span style=\"color: #0087ff; text-decoration-color: #0087ff\">Dense</span>)                 │ (<span style=\"color: #00d7ff; text-decoration-color: #00d7ff\">None</span>, <span style=\"color: #00af00; text-decoration-color: #00af00\">128</span>)            │        <span style=\"color: #00af00; text-decoration-color: #00af00\">15,360</span> │\n",
       "├─────────────────────────────────┼────────────────────────┼───────────────┤\n",
       "│ bn_1 (<span style=\"color: #0087ff; text-decoration-color: #0087ff\">BatchNormalization</span>)       │ (<span style=\"color: #00d7ff; text-decoration-color: #00d7ff\">None</span>, <span style=\"color: #00af00; text-decoration-color: #00af00\">128</span>)            │           <span style=\"color: #00af00; text-decoration-color: #00af00\">512</span> │\n",
       "├─────────────────────────────────┼────────────────────────┼───────────────┤\n",
       "│ dropout_1 (<span style=\"color: #0087ff; text-decoration-color: #0087ff\">Dropout</span>)             │ (<span style=\"color: #00d7ff; text-decoration-color: #00d7ff\">None</span>, <span style=\"color: #00af00; text-decoration-color: #00af00\">128</span>)            │             <span style=\"color: #00af00; text-decoration-color: #00af00\">0</span> │\n",
       "├─────────────────────────────────┼────────────────────────┼───────────────┤\n",
       "│ dense_2 (<span style=\"color: #0087ff; text-decoration-color: #0087ff\">Dense</span>)                 │ (<span style=\"color: #00d7ff; text-decoration-color: #00d7ff\">None</span>, <span style=\"color: #00af00; text-decoration-color: #00af00\">64</span>)             │         <span style=\"color: #00af00; text-decoration-color: #00af00\">8,256</span> │\n",
       "├─────────────────────────────────┼────────────────────────┼───────────────┤\n",
       "│ bn_2 (<span style=\"color: #0087ff; text-decoration-color: #0087ff\">BatchNormalization</span>)       │ (<span style=\"color: #00d7ff; text-decoration-color: #00d7ff\">None</span>, <span style=\"color: #00af00; text-decoration-color: #00af00\">64</span>)             │           <span style=\"color: #00af00; text-decoration-color: #00af00\">256</span> │\n",
       "├─────────────────────────────────┼────────────────────────┼───────────────┤\n",
       "│ dropout_2 (<span style=\"color: #0087ff; text-decoration-color: #0087ff\">Dropout</span>)             │ (<span style=\"color: #00d7ff; text-decoration-color: #00d7ff\">None</span>, <span style=\"color: #00af00; text-decoration-color: #00af00\">64</span>)             │             <span style=\"color: #00af00; text-decoration-color: #00af00\">0</span> │\n",
       "├─────────────────────────────────┼────────────────────────┼───────────────┤\n",
       "│ dense_3 (<span style=\"color: #0087ff; text-decoration-color: #0087ff\">Dense</span>)                 │ (<span style=\"color: #00d7ff; text-decoration-color: #00d7ff\">None</span>, <span style=\"color: #00af00; text-decoration-color: #00af00\">32</span>)             │         <span style=\"color: #00af00; text-decoration-color: #00af00\">2,080</span> │\n",
       "├─────────────────────────────────┼────────────────────────┼───────────────┤\n",
       "│ dropout_3 (<span style=\"color: #0087ff; text-decoration-color: #0087ff\">Dropout</span>)             │ (<span style=\"color: #00d7ff; text-decoration-color: #00d7ff\">None</span>, <span style=\"color: #00af00; text-decoration-color: #00af00\">32</span>)             │             <span style=\"color: #00af00; text-decoration-color: #00af00\">0</span> │\n",
       "├─────────────────────────────────┼────────────────────────┼───────────────┤\n",
       "│ output (<span style=\"color: #0087ff; text-decoration-color: #0087ff\">Dense</span>)                  │ (<span style=\"color: #00d7ff; text-decoration-color: #00d7ff\">None</span>, <span style=\"color: #00af00; text-decoration-color: #00af00\">1</span>)              │            <span style=\"color: #00af00; text-decoration-color: #00af00\">33</span> │\n",
       "└─────────────────────────────────┴────────────────────────┴───────────────┘\n",
       "</pre>\n"
      ],
      "text/plain": [
       "┏━━━━━━━━━━━━━━━━━━━━━━━━━━━━━━━━━┳━━━━━━━━━━━━━━━━━━━━━━━━┳━━━━━━━━━━━━━━━┓\n",
       "┃\u001b[1m \u001b[0m\u001b[1mLayer (type)                   \u001b[0m\u001b[1m \u001b[0m┃\u001b[1m \u001b[0m\u001b[1mOutput Shape          \u001b[0m\u001b[1m \u001b[0m┃\u001b[1m \u001b[0m\u001b[1m      Param #\u001b[0m\u001b[1m \u001b[0m┃\n",
       "┡━━━━━━━━━━━━━━━━━━━━━━━━━━━━━━━━━╇━━━━━━━━━━━━━━━━━━━━━━━━╇━━━━━━━━━━━━━━━┩\n",
       "│ dense_1 (\u001b[38;5;33mDense\u001b[0m)                 │ (\u001b[38;5;45mNone\u001b[0m, \u001b[38;5;34m128\u001b[0m)            │        \u001b[38;5;34m15,360\u001b[0m │\n",
       "├─────────────────────────────────┼────────────────────────┼───────────────┤\n",
       "│ bn_1 (\u001b[38;5;33mBatchNormalization\u001b[0m)       │ (\u001b[38;5;45mNone\u001b[0m, \u001b[38;5;34m128\u001b[0m)            │           \u001b[38;5;34m512\u001b[0m │\n",
       "├─────────────────────────────────┼────────────────────────┼───────────────┤\n",
       "│ dropout_1 (\u001b[38;5;33mDropout\u001b[0m)             │ (\u001b[38;5;45mNone\u001b[0m, \u001b[38;5;34m128\u001b[0m)            │             \u001b[38;5;34m0\u001b[0m │\n",
       "├─────────────────────────────────┼────────────────────────┼───────────────┤\n",
       "│ dense_2 (\u001b[38;5;33mDense\u001b[0m)                 │ (\u001b[38;5;45mNone\u001b[0m, \u001b[38;5;34m64\u001b[0m)             │         \u001b[38;5;34m8,256\u001b[0m │\n",
       "├─────────────────────────────────┼────────────────────────┼───────────────┤\n",
       "│ bn_2 (\u001b[38;5;33mBatchNormalization\u001b[0m)       │ (\u001b[38;5;45mNone\u001b[0m, \u001b[38;5;34m64\u001b[0m)             │           \u001b[38;5;34m256\u001b[0m │\n",
       "├─────────────────────────────────┼────────────────────────┼───────────────┤\n",
       "│ dropout_2 (\u001b[38;5;33mDropout\u001b[0m)             │ (\u001b[38;5;45mNone\u001b[0m, \u001b[38;5;34m64\u001b[0m)             │             \u001b[38;5;34m0\u001b[0m │\n",
       "├─────────────────────────────────┼────────────────────────┼───────────────┤\n",
       "│ dense_3 (\u001b[38;5;33mDense\u001b[0m)                 │ (\u001b[38;5;45mNone\u001b[0m, \u001b[38;5;34m32\u001b[0m)             │         \u001b[38;5;34m2,080\u001b[0m │\n",
       "├─────────────────────────────────┼────────────────────────┼───────────────┤\n",
       "│ dropout_3 (\u001b[38;5;33mDropout\u001b[0m)             │ (\u001b[38;5;45mNone\u001b[0m, \u001b[38;5;34m32\u001b[0m)             │             \u001b[38;5;34m0\u001b[0m │\n",
       "├─────────────────────────────────┼────────────────────────┼───────────────┤\n",
       "│ output (\u001b[38;5;33mDense\u001b[0m)                  │ (\u001b[38;5;45mNone\u001b[0m, \u001b[38;5;34m1\u001b[0m)              │            \u001b[38;5;34m33\u001b[0m │\n",
       "└─────────────────────────────────┴────────────────────────┴───────────────┘\n"
      ]
     },
     "metadata": {},
     "output_type": "display_data"
    },
    {
     "data": {
      "text/html": [
       "<pre style=\"white-space:pre;overflow-x:auto;line-height:normal;font-family:Menlo,'DejaVu Sans Mono',consolas,'Courier New',monospace\"><span style=\"font-weight: bold\"> Total params: </span><span style=\"color: #00af00; text-decoration-color: #00af00\">26,497</span> (103.50 KB)\n",
       "</pre>\n"
      ],
      "text/plain": [
       "\u001b[1m Total params: \u001b[0m\u001b[38;5;34m26,497\u001b[0m (103.50 KB)\n"
      ]
     },
     "metadata": {},
     "output_type": "display_data"
    },
    {
     "data": {
      "text/html": [
       "<pre style=\"white-space:pre;overflow-x:auto;line-height:normal;font-family:Menlo,'DejaVu Sans Mono',consolas,'Courier New',monospace\"><span style=\"font-weight: bold\"> Trainable params: </span><span style=\"color: #00af00; text-decoration-color: #00af00\">26,113</span> (102.00 KB)\n",
       "</pre>\n"
      ],
      "text/plain": [
       "\u001b[1m Trainable params: \u001b[0m\u001b[38;5;34m26,113\u001b[0m (102.00 KB)\n"
      ]
     },
     "metadata": {},
     "output_type": "display_data"
    },
    {
     "data": {
      "text/html": [
       "<pre style=\"white-space:pre;overflow-x:auto;line-height:normal;font-family:Menlo,'DejaVu Sans Mono',consolas,'Courier New',monospace\"><span style=\"font-weight: bold\"> Non-trainable params: </span><span style=\"color: #00af00; text-decoration-color: #00af00\">384</span> (1.50 KB)\n",
       "</pre>\n"
      ],
      "text/plain": [
       "\u001b[1m Non-trainable params: \u001b[0m\u001b[38;5;34m384\u001b[0m (1.50 KB)\n"
      ]
     },
     "metadata": {},
     "output_type": "display_data"
    }
   ],
   "source": [
    "#Build Neural Network Model\n",
    "print(\"Building neural network model...\")\n",
    "\n",
    "model = Sequential([\n",
    "    # First hidden layer\n",
    "    Dense(128, input_dim=X_train.shape[1], activation='relu', name='dense_1'),\n",
    "    BatchNormalization(name='bn_1'),\n",
    "    Dropout(0.3, name='dropout_1'),\n",
    "    \n",
    "    # Second hidden layer\n",
    "    Dense(64, activation='relu', name='dense_2'),\n",
    "    BatchNormalization(name='bn_2'),\n",
    "    Dropout(0.3, name='dropout_2'),\n",
    "    \n",
    "    # Third hidden layer\n",
    "    Dense(32, activation='relu', name='dense_3'),\n",
    "    Dropout(0.2, name='dropout_3'),\n",
    "    \n",
    "    # Output layer\n",
    "    Dense(1, activation='sigmoid', name='output')\n",
    "])\n",
    "\n",
    "# Compile with optimizer and loss function\n",
    "model.compile(\n",
    "    optimizer=Adam(learning_rate=0.001),\n",
    "    loss='binary_crossentropy',\n",
    "    metrics=['accuracy']\n",
    ")\n",
    "\n",
    "print(\"\\n✓ Model architecture:\")\n",
    "model.summary()\n"
   ]
  },
  {
   "cell_type": "code",
   "execution_count": 15,
   "id": "74168055",
   "metadata": {
    "execution": {
     "iopub.execute_input": "2025-10-25T02:39:32.162045Z",
     "iopub.status.busy": "2025-10-25T02:39:32.161450Z",
     "iopub.status.idle": "2025-10-25T02:39:39.320032Z",
     "shell.execute_reply": "2025-10-25T02:39:39.319070Z"
    },
    "papermill": {
     "duration": 7.166228,
     "end_time": "2025-10-25T02:39:39.321522",
     "exception": false,
     "start_time": "2025-10-25T02:39:32.155294",
     "status": "completed"
    },
    "tags": []
   },
   "outputs": [
    {
     "name": "stdout",
     "output_type": "stream",
     "text": [
      "Setting up training callbacks...\n",
      "✓ Callbacks configured\n",
      "\n",
      "Starting model training...\n",
      "============================================================\n",
      "Epoch 1/100\n",
      "\u001b[1m12/12\u001b[0m \u001b[32m━━━━━━━━━━━━━━━━━━━━\u001b[0m\u001b[37m\u001b[0m \u001b[1m4s\u001b[0m 38ms/step - accuracy: 0.5987 - loss: 0.7579 - val_accuracy: 0.4750 - val_loss: 0.7310 - learning_rate: 0.0010\n",
      "Epoch 2/100\n",
      "\u001b[1m12/12\u001b[0m \u001b[32m━━━━━━━━━━━━━━━━━━━━\u001b[0m\u001b[37m\u001b[0m \u001b[1m0s\u001b[0m 9ms/step - accuracy: 0.5389 - loss: 0.7324 - val_accuracy: 0.5000 - val_loss: 0.7262 - learning_rate: 0.0010\n",
      "Epoch 3/100\n",
      "\u001b[1m12/12\u001b[0m \u001b[32m━━━━━━━━━━━━━━━━━━━━\u001b[0m\u001b[37m\u001b[0m \u001b[1m0s\u001b[0m 9ms/step - accuracy: 0.5978 - loss: 0.6766 - val_accuracy: 0.5250 - val_loss: 0.7256 - learning_rate: 0.0010\n",
      "Epoch 4/100\n",
      "\u001b[1m12/12\u001b[0m \u001b[32m━━━━━━━━━━━━━━━━━━━━\u001b[0m\u001b[37m\u001b[0m \u001b[1m0s\u001b[0m 9ms/step - accuracy: 0.6704 - loss: 0.6087 - val_accuracy: 0.5000 - val_loss: 0.7215 - learning_rate: 0.0010\n",
      "Epoch 5/100\n",
      "\u001b[1m12/12\u001b[0m \u001b[32m━━━━━━━━━━━━━━━━━━━━\u001b[0m\u001b[37m\u001b[0m \u001b[1m0s\u001b[0m 9ms/step - accuracy: 0.6800 - loss: 0.5954 - val_accuracy: 0.4500 - val_loss: 0.7235 - learning_rate: 0.0010\n",
      "Epoch 6/100\n",
      "\u001b[1m12/12\u001b[0m \u001b[32m━━━━━━━━━━━━━━━━━━━━\u001b[0m\u001b[37m\u001b[0m \u001b[1m0s\u001b[0m 8ms/step - accuracy: 0.6974 - loss: 0.5954 - val_accuracy: 0.5250 - val_loss: 0.7242 - learning_rate: 0.0010\n",
      "Epoch 7/100\n",
      "\u001b[1m 1/12\u001b[0m \u001b[32m━\u001b[0m\u001b[37m━━━━━━━━━━━━━━━━━━━\u001b[0m \u001b[1m0s\u001b[0m 26ms/step - accuracy: 0.5625 - loss: 0.7849\n",
      "Epoch 7: ReduceLROnPlateau reducing learning rate to 0.0005000000237487257.\n",
      "\u001b[1m12/12\u001b[0m \u001b[32m━━━━━━━━━━━━━━━━━━━━\u001b[0m\u001b[37m\u001b[0m \u001b[1m0s\u001b[0m 9ms/step - accuracy: 0.6489 - loss: 0.6221 - val_accuracy: 0.5500 - val_loss: 0.7331 - learning_rate: 0.0010\n",
      "Epoch 8/100\n",
      "\u001b[1m12/12\u001b[0m \u001b[32m━━━━━━━━━━━━━━━━━━━━\u001b[0m\u001b[37m\u001b[0m \u001b[1m0s\u001b[0m 8ms/step - accuracy: 0.6818 - loss: 0.5624 - val_accuracy: 0.5500 - val_loss: 0.7235 - learning_rate: 5.0000e-04\n",
      "Epoch 9/100\n",
      "\u001b[1m12/12\u001b[0m \u001b[32m━━━━━━━━━━━━━━━━━━━━\u001b[0m\u001b[37m\u001b[0m \u001b[1m0s\u001b[0m 8ms/step - accuracy: 0.6953 - loss: 0.5943 - val_accuracy: 0.5250 - val_loss: 0.7212 - learning_rate: 5.0000e-04\n",
      "Epoch 10/100\n",
      "\u001b[1m12/12\u001b[0m \u001b[32m━━━━━━━━━━━━━━━━━━━━\u001b[0m\u001b[37m\u001b[0m \u001b[1m0s\u001b[0m 8ms/step - accuracy: 0.7391 - loss: 0.5405 - val_accuracy: 0.5250 - val_loss: 0.7214 - learning_rate: 5.0000e-04\n",
      "Epoch 11/100\n",
      "\u001b[1m12/12\u001b[0m \u001b[32m━━━━━━━━━━━━━━━━━━━━\u001b[0m\u001b[37m\u001b[0m \u001b[1m0s\u001b[0m 8ms/step - accuracy: 0.7630 - loss: 0.5020 - val_accuracy: 0.5250 - val_loss: 0.7248 - learning_rate: 5.0000e-04\n",
      "Epoch 12/100\n",
      "\u001b[1m 1/12\u001b[0m \u001b[32m━\u001b[0m\u001b[37m━━━━━━━━━━━━━━━━━━━\u001b[0m \u001b[1m0s\u001b[0m 26ms/step - accuracy: 0.6875 - loss: 0.5183\n",
      "Epoch 12: ReduceLROnPlateau reducing learning rate to 0.0002500000118743628.\n",
      "\u001b[1m12/12\u001b[0m \u001b[32m━━━━━━━━━━━━━━━━━━━━\u001b[0m\u001b[37m\u001b[0m \u001b[1m0s\u001b[0m 9ms/step - accuracy: 0.6840 - loss: 0.5565 - val_accuracy: 0.5500 - val_loss: 0.7244 - learning_rate: 5.0000e-04\n",
      "Epoch 13/100\n",
      "\u001b[1m12/12\u001b[0m \u001b[32m━━━━━━━━━━━━━━━━━━━━\u001b[0m\u001b[37m\u001b[0m \u001b[1m0s\u001b[0m 8ms/step - accuracy: 0.7293 - loss: 0.5384 - val_accuracy: 0.5500 - val_loss: 0.7229 - learning_rate: 2.5000e-04\n",
      "Epoch 14/100\n",
      "\u001b[1m12/12\u001b[0m \u001b[32m━━━━━━━━━━━━━━━━━━━━\u001b[0m\u001b[37m\u001b[0m \u001b[1m0s\u001b[0m 8ms/step - accuracy: 0.6770 - loss: 0.5732 - val_accuracy: 0.5500 - val_loss: 0.7176 - learning_rate: 2.5000e-04\n",
      "Epoch 15/100\n",
      "\u001b[1m12/12\u001b[0m \u001b[32m━━━━━━━━━━━━━━━━━━━━\u001b[0m\u001b[37m\u001b[0m \u001b[1m0s\u001b[0m 8ms/step - accuracy: 0.7614 - loss: 0.5243 - val_accuracy: 0.5500 - val_loss: 0.7115 - learning_rate: 2.5000e-04\n",
      "Epoch 16/100\n",
      "\u001b[1m12/12\u001b[0m \u001b[32m━━━━━━━━━━━━━━━━━━━━\u001b[0m\u001b[37m\u001b[0m \u001b[1m0s\u001b[0m 8ms/step - accuracy: 0.7351 - loss: 0.4912 - val_accuracy: 0.5750 - val_loss: 0.7083 - learning_rate: 2.5000e-04\n",
      "Epoch 17/100\n",
      "\u001b[1m12/12\u001b[0m \u001b[32m━━━━━━━━━━━━━━━━━━━━\u001b[0m\u001b[37m\u001b[0m \u001b[1m0s\u001b[0m 9ms/step - accuracy: 0.7452 - loss: 0.5236 - val_accuracy: 0.6000 - val_loss: 0.7052 - learning_rate: 2.5000e-04\n",
      "Epoch 18/100\n",
      "\u001b[1m12/12\u001b[0m \u001b[32m━━━━━━━━━━━━━━━━━━━━\u001b[0m\u001b[37m\u001b[0m \u001b[1m0s\u001b[0m 8ms/step - accuracy: 0.8028 - loss: 0.4471 - val_accuracy: 0.6000 - val_loss: 0.7103 - learning_rate: 2.5000e-04\n",
      "Epoch 19/100\n",
      "\u001b[1m12/12\u001b[0m \u001b[32m━━━━━━━━━━━━━━━━━━━━\u001b[0m\u001b[37m\u001b[0m \u001b[1m0s\u001b[0m 8ms/step - accuracy: 0.7677 - loss: 0.4996 - val_accuracy: 0.6000 - val_loss: 0.7153 - learning_rate: 2.5000e-04\n",
      "Epoch 20/100\n",
      "\u001b[1m 1/12\u001b[0m \u001b[32m━\u001b[0m\u001b[37m━━━━━━━━━━━━━━━━━━━\u001b[0m \u001b[1m0s\u001b[0m 25ms/step - accuracy: 0.8125 - loss: 0.4189\n",
      "Epoch 20: ReduceLROnPlateau reducing learning rate to 0.0001250000059371814.\n",
      "\u001b[1m12/12\u001b[0m \u001b[32m━━━━━━━━━━━━━━━━━━━━\u001b[0m\u001b[37m\u001b[0m \u001b[1m0s\u001b[0m 9ms/step - accuracy: 0.7796 - loss: 0.4864 - val_accuracy: 0.6000 - val_loss: 0.7172 - learning_rate: 2.5000e-04\n",
      "Epoch 21/100\n",
      "\u001b[1m12/12\u001b[0m \u001b[32m━━━━━━━━━━━━━━━━━━━━\u001b[0m\u001b[37m\u001b[0m \u001b[1m0s\u001b[0m 9ms/step - accuracy: 0.7414 - loss: 0.5085 - val_accuracy: 0.6000 - val_loss: 0.7189 - learning_rate: 1.2500e-04\n",
      "Epoch 22/100\n",
      "\u001b[1m12/12\u001b[0m \u001b[32m━━━━━━━━━━━━━━━━━━━━\u001b[0m\u001b[37m\u001b[0m \u001b[1m0s\u001b[0m 9ms/step - accuracy: 0.7630 - loss: 0.4675 - val_accuracy: 0.6000 - val_loss: 0.7226 - learning_rate: 1.2500e-04\n",
      "Epoch 23/100\n",
      "\u001b[1m 1/12\u001b[0m \u001b[32m━\u001b[0m\u001b[37m━━━━━━━━━━━━━━━━━━━\u001b[0m \u001b[1m0s\u001b[0m 26ms/step - accuracy: 0.8438 - loss: 0.4220\n",
      "Epoch 23: ReduceLROnPlateau reducing learning rate to 6.25000029685907e-05.\n",
      "\u001b[1m12/12\u001b[0m \u001b[32m━━━━━━━━━━━━━━━━━━━━\u001b[0m\u001b[37m\u001b[0m \u001b[1m0s\u001b[0m 9ms/step - accuracy: 0.7744 - loss: 0.4816 - val_accuracy: 0.6000 - val_loss: 0.7230 - learning_rate: 1.2500e-04\n",
      "Epoch 24/100\n",
      "\u001b[1m12/12\u001b[0m \u001b[32m━━━━━━━━━━━━━━━━━━━━\u001b[0m\u001b[37m\u001b[0m \u001b[1m0s\u001b[0m 9ms/step - accuracy: 0.7287 - loss: 0.5083 - val_accuracy: 0.6000 - val_loss: 0.7224 - learning_rate: 6.2500e-05\n",
      "Epoch 24: early stopping\n",
      "Restoring model weights from the end of the best epoch: 17.\n",
      "\n",
      "============================================================\n",
      "✓ Training complete!\n"
     ]
    }
   ],
   "source": [
    "#Setup Training Callbacks\n",
    "print(\"Setting up training callbacks...\")\n",
    "\n",
    "# Early stopping: stop if val_loss doesn't improve for 7 epochs\n",
    "early_stopping = EarlyStopping(\n",
    "    monitor='val_loss',\n",
    "    patience=7,\n",
    "    restore_best_weights=True,\n",
    "    verbose=1\n",
    ")\n",
    "\n",
    "# Learning rate reduction: cut LR in half if val_loss plateaus\n",
    "lr_reducer = ReduceLROnPlateau(\n",
    "    monitor='val_loss',\n",
    "    factor=0.5,\n",
    "    patience=3,\n",
    "    min_lr=1e-6,\n",
    "    verbose=1\n",
    ")\n",
    "\n",
    "print(\"✓ Callbacks configured\")\n",
    "\n",
    "\n",
    "# ============================================================================\n",
    "# CELL 15: Train the Model\n",
    "# ============================================================================\n",
    "# This is where the magic happens!\n",
    "\n",
    "print(\"\\nStarting model training...\")\n",
    "print(\"=\" * 60)\n",
    "\n",
    "history = model.fit(\n",
    "    X_train, \n",
    "    y_train,\n",
    "    epochs=100,\n",
    "    batch_size=32,\n",
    "    validation_split=0.1,  # Use 10% of training data for validation\n",
    "    class_weight=class_weights_dict,  # Handle class imbalance\n",
    "    callbacks=[early_stopping, lr_reducer],\n",
    "    verbose=1\n",
    ")\n",
    "\n",
    "print(\"\\n\" + \"=\" * 60)\n",
    "print(\"✓ Training complete!\")"
   ]
  },
  {
   "cell_type": "code",
   "execution_count": 16,
   "id": "9d4cf736",
   "metadata": {
    "execution": {
     "iopub.execute_input": "2025-10-25T02:39:39.340971Z",
     "iopub.status.busy": "2025-10-25T02:39:39.340646Z",
     "iopub.status.idle": "2025-10-25T02:39:39.639782Z",
     "shell.execute_reply": "2025-10-25T02:39:39.638699Z"
    },
    "papermill": {
     "duration": 0.310386,
     "end_time": "2025-10-25T02:39:39.641301",
     "exception": false,
     "start_time": "2025-10-25T02:39:39.330915",
     "status": "completed"
    },
    "tags": []
   },
   "outputs": [
    {
     "name": "stdout",
     "output_type": "stream",
     "text": [
      "Making predictions on test set...\n",
      "✓ Predictions complete for 99 test samples\n"
     ]
    }
   ],
   "source": [
    "#Make Predictions\n",
    "print(\"Making predictions on test set...\")\n",
    "\n",
    "# Get probability predictions\n",
    "y_pred_prob = model.predict(X_test, verbose=0)\n",
    "\n",
    "# Convert probabilities to binary predictions (threshold = 0.5)\n",
    "y_pred = (y_pred_prob > 0.5).astype(int).flatten()\n",
    "\n",
    "print(f\"✓ Predictions complete for {len(y_pred)} test samples\")"
   ]
  },
  {
   "cell_type": "code",
   "execution_count": 17,
   "id": "534e4e29",
   "metadata": {
    "execution": {
     "iopub.execute_input": "2025-10-25T02:39:39.661356Z",
     "iopub.status.busy": "2025-10-25T02:39:39.660539Z",
     "iopub.status.idle": "2025-10-25T02:39:39.681055Z",
     "shell.execute_reply": "2025-10-25T02:39:39.680063Z"
    },
    "papermill": {
     "duration": 0.032043,
     "end_time": "2025-10-25T02:39:39.682600",
     "exception": false,
     "start_time": "2025-10-25T02:39:39.650557",
     "status": "completed"
    },
    "tags": []
   },
   "outputs": [
    {
     "name": "stdout",
     "output_type": "stream",
     "text": [
      "\n",
      "============================================================\n",
      "MODEL PERFORMANCE METRICS\n",
      "============================================================\n",
      "\n",
      "📊 Test Accuracy: 0.5758 (57.58%)\n",
      "📊 Baseline Accuracy (always predict 1): 0.5859 (58.59%)\n",
      "📈 Improvement over baseline: -1.01 percentage points\n",
      "📊 ROC-AUC Score: 0.7157\n",
      "\n",
      "============================================================\n",
      "DETAILED CLASSIFICATION REPORT\n",
      "============================================================\n",
      "              precision    recall  f1-score   support\n",
      "\n",
      "    DOWN (0)       0.49      0.83      0.62        41\n",
      "      UP (1)       0.77      0.40      0.52        58\n",
      "\n",
      "    accuracy                           0.58        99\n",
      "   macro avg       0.63      0.61      0.57        99\n",
      "weighted avg       0.65      0.58      0.56        99\n",
      "\n"
     ]
    }
   ],
   "source": [
    "#Evaluate Model Performance\n",
    "print(\"\\n\" + \"=\" * 60)\n",
    "print(\"MODEL PERFORMANCE METRICS\")\n",
    "print(\"=\" * 60)\n",
    "\n",
    "# Calculate accuracy\n",
    "accuracy = accuracy_score(y_test, y_pred)\n",
    "print(f\"\\n📊 Test Accuracy: {accuracy:.4f} ({accuracy*100:.2f}%)\")\n",
    "\n",
    "# Calculate baseline (always predict majority class)\n",
    "majority_class = y_train.mode()[0]\n",
    "baseline_acc = accuracy_score(y_test, [majority_class] * len(y_test))\n",
    "print(f\"📊 Baseline Accuracy (always predict {majority_class}): {baseline_acc:.4f} ({baseline_acc*100:.2f}%)\")\n",
    "print(f\"📈 Improvement over baseline: {(accuracy - baseline_acc)*100:.2f} percentage points\")\n",
    "\n",
    "# ROC-AUC Score\n",
    "try:\n",
    "    roc_auc = roc_auc_score(y_test, y_pred_prob)\n",
    "    print(f\"📊 ROC-AUC Score: {roc_auc:.4f}\")\n",
    "except:\n",
    "    print(\"📊 ROC-AUC Score: Could not calculate\")\n",
    "\n",
    "# Detailed classification report\n",
    "print(\"\\n\" + \"=\" * 60)\n",
    "print(\"DETAILED CLASSIFICATION REPORT\")\n",
    "print(\"=\" * 60)\n",
    "print(classification_report(y_test, y_pred, target_names=['DOWN (0)', 'UP (1)']))"
   ]
  },
  {
   "cell_type": "code",
   "execution_count": null,
   "id": "2b341c2d",
   "metadata": {
    "papermill": {
     "duration": 0.009076,
     "end_time": "2025-10-25T02:39:39.701633",
     "exception": false,
     "start_time": "2025-10-25T02:39:39.692557",
     "status": "completed"
    },
    "tags": []
   },
   "outputs": [],
   "source": []
  }
 ],
 "metadata": {
  "kaggle": {
   "accelerator": "none",
   "dataSources": [],
   "dockerImageVersionId": 31153,
   "isGpuEnabled": false,
   "isInternetEnabled": true,
   "language": "python",
   "sourceType": "notebook"
  },
  "kernelspec": {
   "display_name": "Python 3",
   "language": "python",
   "name": "python3"
  },
  "language_info": {
   "codemirror_mode": {
    "name": "ipython",
    "version": 3
   },
   "file_extension": ".py",
   "mimetype": "text/x-python",
   "name": "python",
   "nbconvert_exporter": "python",
   "pygments_lexer": "ipython3",
   "version": "3.11.13"
  },
  "papermill": {
   "default_parameters": {},
   "duration": 44.14165,
   "end_time": "2025-10-25T02:39:42.693585",
   "environment_variables": {},
   "exception": null,
   "input_path": "__notebook__.ipynb",
   "output_path": "__notebook__.ipynb",
   "parameters": {},
   "start_time": "2025-10-25T02:38:58.551935",
   "version": "2.6.0"
  }
 },
 "nbformat": 4,
 "nbformat_minor": 5
}
